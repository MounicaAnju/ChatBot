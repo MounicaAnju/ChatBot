{
 "cells": [
  {
   "cell_type": "code",
   "execution_count": 1,
   "id": "f188be7f",
   "metadata": {},
   "outputs": [
    {
     "name": "stderr",
     "output_type": "stream",
     "text": [
      "c:\\Users\\veera\\anaconda3\\envs\\DEV\\Lib\\site-packages\\pinecone\\index.py:4: TqdmExperimentalWarning: Using `tqdm.autonotebook.tqdm` in notebook mode. Use `tqdm.tqdm` instead to force console mode (e.g. in jupyter console)\n",
      "  from tqdm.autonotebook import tqdm\n"
     ]
    },
    {
     "data": {
      "text/plain": [
       "True"
      ]
     },
     "execution_count": 1,
     "metadata": {},
     "output_type": "execute_result"
    }
   ],
   "source": [
    "import pandas as pd\n",
    "from pprint import pprint \n",
    "import json\n",
    "import openai\n",
    "import re\n",
    "import os\n",
    "import pinecone\n",
    "import time\n",
    "\n",
    "import nltk\n",
    "from nltk.tokenize import word_tokenize\n",
    "\n",
    "\n",
    "import langchain\n",
    "from langchain.llms import OpenAI\n",
    "from langchain.chat_models import ChatOpenAI\n",
    "from langchain.vectorstores import Pinecone\n",
    "from langchain.text_splitter import RecursiveCharacterTextSplitter\n",
    "from langchain.embeddings import OpenAIEmbeddings\n",
    "\n",
    "from langchain.schema import ( SystemMessage, HumanMessage, AIMessage )\n",
    "\n",
    "\n",
    "from dotenv import load_dotenv,find_dotenv\n",
    "load_dotenv(find_dotenv())"
   ]
  },
  {
   "cell_type": "code",
   "execution_count": 2,
   "id": "52b7480f",
   "metadata": {},
   "outputs": [],
   "source": [
    "OPENAI_API_KEY = os.getenv(\"OPENAI_API_KEY\")\n",
    "PINECONE_API_KEY = os.getenv(\"PINECONE_API_KEY\")\n",
    "PINECONE_INDEX_NAME = os.getenv(\"PINECONE_INDEX_NAME\")\n",
    "PINECONE_ENVIRONMENT = os.getenv(\"PINECONE_ENVIRONMENT\")"
   ]
  },
  {
   "cell_type": "code",
   "execution_count": 3,
   "id": "550120b8",
   "metadata": {},
   "outputs": [],
   "source": [
    "# Define the path to the JSON file\n",
    "file_path = \"./Data/jira-conversations2.json\"\n",
    "\n",
    "# Read the JSON file with utf-8 encoding\n",
    "with open(file_path, \"r\", encoding='utf-8') as f:\n",
    "    data = json.load(f)"
   ]
  },
  {
   "cell_type": "code",
   "execution_count": 4,
   "id": "06543e0e",
   "metadata": {},
   "outputs": [],
   "source": [
    "json_data = data[0:49]"
   ]
  },
  {
   "cell_type": "code",
   "execution_count": 5,
   "id": "490c1820",
   "metadata": {},
   "outputs": [],
   "source": [
    "def clean_text(text):\n",
    "    text = ' '.join(text.split())  # Remove extra whitespaces and newlines\n",
    "    \n",
    "    # Remove different kinds of unwanted patterns from text\n",
    "    # Remove unwanted patterns\n",
    "    text = re.sub(r'~+\\+~+', '', text)  # Remove ~+~+\n",
    "    text = re.sub(r'\\+\\~', '', text)  # Remove +~\n",
    "    text = re.sub(r'----', '', text)  # Remove ----\n",
    "    text = re.sub(r'\\+\\+', '', text)    # Remove ++\n",
    "    \n",
    "\n",
    "    text = re.sub(r'~accountid:[a-zA-Z0-9]+', '', text)\n",
    "    text = re.sub(r'\\{\"type\".*?\\}\\]', '', text)\n",
    "    text = re.sub(r'\\{adf\\}.*?\\{adf\\}', '', text)  # Remove \"{adf} ... {adf}\" and content within\n",
    "    text = re.sub(r'\\[~~email~~-?\\d+~~\\]', '', text)  # Remove `[~~email~~-numbers~~]`\n",
    "    text = re.sub(r'http[s]?://\\S+', '', text)  # Remove URLs\n",
    "    text = re.sub(r'<\\[\\[~~email~~-?\\d+~~\\]\\]', '', text)  # Remove `<[[~~email~~-numbers~~]]>`\n",
    "    text = re.sub(r'\\|mailto:\\[~~email~~-?\\d+~~\\]', '', text)  # Remove email tags\n",
    "    text = re.sub(r'—-—-—-—', '', text)  # Remove \"—-—-—-—\"\n",
    "    text = re.sub(r'\\w{3}, \\d{1,2} \\w{3} \\d{4}, \\d{1,2}:\\d{2} [apmAPM]{2}', '', text)  # Remove timestamps\n",
    "    text = re.sub(r'\\|\\s+\\|\\s+You don\\'t often get email from', '', text)  # Remove headers\n",
    "    text = re.sub(r'\\[Powered by Service Management.*?\\]', '', text)  # Remove \"[Powered by...]\"\n",
    "    text = re.sub(r'\\[View request.*?&reserved=0\\]', '', text)  # Remove \"[View request...]\"\n",
    "    text = re.sub(r'\\*\\*\\*Please reply above this line\\*\\*\\*', '', text)  # Remove reply line\n",
    "    text = re.sub(r'\\|', '', text)  # Remove \"|\"\n",
    "    text = re.sub(r'_', '', text)  # Remove \"_\"\n",
    "    text = re.sub(r'\\[mailto:\\]', '', text)  # Remove \"[mailto:]\"\n",
    "    text = re.sub(r'\\[|\\]', '', text)  # Remove \"[\" and \"]\"\n",
    "    text = re.sub(r'<|>', '', text)  # Remove \"<\" and \">\"\n",
    "    text = re.sub(r'\\*', '', text)  # Remove \"*\"\n",
    "    text = re.sub(r'!jira[-a-zA-Z0-9 ()]+!', '', text)  # Remove Jira text\n",
    "    \n",
    "    return text\n",
    "\n",
    "# Clean text in conversations\n",
    "for conv in json_data:\n",
    "    for key, value in conv.items():\n",
    "        if isinstance(value, str):  # Check if the value is a string\n",
    "            try:\n",
    "                conv[key] = clean_text(value)\n",
    "            except Exception as e:\n",
    "                print(f\"Error cleaning text in '{key}': {e}\")\n",
    "        else:\n",
    "            print(f\"Skipped cleaning text for key '{key}' as it's not a string.\")"
   ]
  },
  {
   "cell_type": "code",
   "execution_count": 6,
   "id": "58da2ccf",
   "metadata": {
    "scrolled": true
   },
   "outputs": [],
   "source": [
    "texts = [', '.join(f\"'{k}': '{v}'\" for k, v in item.items()) for item in json_data]"
   ]
  },
  {
   "cell_type": "code",
   "execution_count": 7,
   "id": "3e21f7bf",
   "metadata": {},
   "outputs": [
    {
     "data": {
      "text/plain": [
       "11216"
      ]
     },
     "execution_count": 7,
     "metadata": {},
     "output_type": "execute_result"
    }
   ],
   "source": [
    "def count_tokens(json_data):\n",
    "    if isinstance(json_data, dict):\n",
    "        return sum(count_tokens(v) for v in json_data.values())\n",
    "    elif isinstance(json_data, list):\n",
    "        return sum(count_tokens(item) for item in json_data)\n",
    "    elif isinstance(json_data, str):\n",
    "        return len(json_data.split())\n",
    "    else:\n",
    "        return 0\n",
    "\n",
    "\n",
    "count_tokens(json_data)"
   ]
  },
  {
   "cell_type": "code",
   "execution_count": 8,
   "id": "c3cb2170",
   "metadata": {},
   "outputs": [
    {
     "data": {
      "text/plain": [
       "49"
      ]
     },
     "execution_count": 8,
     "metadata": {},
     "output_type": "execute_result"
    }
   ],
   "source": [
    "len(texts)"
   ]
  },
  {
   "cell_type": "code",
   "execution_count": 9,
   "id": "45fd5de7",
   "metadata": {},
   "outputs": [
    {
     "data": {
      "text/plain": [
       "[\"'question000001': 'Hii This is  gadipally UID-U6331114. In process of submitting DS160. I need to send address and phone number of point of contact(school official).So can you please send address and phone number of IRIS BRITO(School official to contact uon arrival).Can i also know the first and last name of IRIS BRITO. Thank you. ', 'response000002': 'Thank you for reaching out. You are able to add  at . Best, '\",\n",
       " \"'question000001': 'Hello, I am  with ID - U20309912. I have not received any mail regarding academic integrity course . Can you please send the link for academic integrity course and details regarding it?! Thanks in advance. ', 'response000002': 'Hello, provide me with your USF email.', 'question000003': 'Hello, USF mail Id is  Thanks in advance   ', 'response000004': 'Canvas invite has been sent via email.', 'question000005': 'Hello , I didn’t get any canvas invite to my mail. Can you please send it again?! Thanks in advance   ', 'response000006': 'Invite has been sent again.'\",\n",
       " \"'question000001': 'Sir/Madam, Greetings of the day!! Thank you for your email and I would like to change my program from MS Computer Science to MS Information Technology program. Please let me know the procedure to change my program and further process my application. Waiting for your quick and positive response. Thanks and ,  {quote} Hello! Thank you for applying to our MS BAIS program. At this time, it has been decided that we are not moving forward with your application. Our program does fill up quickly and in order for us to best serve each student, we have reached capacity. We understand this is not your first option, but we strongly encourage you to reapply for spring 2024 or fall 2024. We are happy to answer any questions, as you are making this decision whether or not to move forward. We do hope you choose to be considered for a future start. Thank you for considering USF!  MS BAIS Academic Advisor School of Information Systems and Management {quote}', 'response000002': 'If you are interested in applying for another program, you will have to start another application. Best, '\",\n",
       " \"'question000001': 'Hi Could you kindly let me know my pre requisites. My UID is U05191359. Regards, ', 'response000002': 'Hi, Thank you for your request to do a prerequisite check. The system that I use to check your records is down and I therefore cannot do the check at this stage. I will try again later. Sorry. With kind regards, , PhD Professor and Graduate Coordinator, MS BAIS College of Business, University of South Florida', 'question000003': 'Hi, The system that I use to check your records is still down. This is very frustrating for me, as I am sure it is for you. If you send me your unofficial transcript and the resume that you uploaded when you created your application, I can use those to do the prerequisite check. With apologies – Han , PhD Professor and Graduate Coordinator, MS BAIS College of Business, University of South Florida', 'response000004': 'Hi I'm attaching my resume and unofficial transcript, kindly let me know my pre requisites. Thanks,   From:   Sent: Tuesday, April 18, 2023 9:13:08 PM To:   Subject: MUMAJIRA-1562 Pre Requisite Check    commented: Hi, The system that I use to check your records is still down. This is very frustrating for me, as I am sure it is for you. If you send me your unofficial transcript and the resume that you uploaded when you created your application, I can use those to do the prerequisite check. With apologies – Han , PhD Professor and Graduate Coordinator, MS BAIS College of Business, University of South Florida  mailto: View request ·  Turn off this request's notifications Powered by Service Management Sent on April 18, 2023 11:43:07 AM EDT (19.32 MB) (195 kB)', 'question000005': 'Hi, Thank you for sending me the documents. I have reviewed them, and you have the following prerequisites to complet  Economics  Financial Accounting You can find a link with courses you can take to satisfy the prerequisites at  It is of course possible that I overlooked something in either your resume or your transcript that would allow us to waive more prerequisites. If so, please let me know within 30 days of receipt of this email. Please do so by responding to this message, and do not create a message from scratch. With kind regards, , PhD Professor and Graduate Coordinator, MS BAIS College of Business, University of South Florida'\",\n",
       " \"'question000001': 'Hi Could you kindly let me know my pre requisites. My UID is U43202780. Regards, ', 'response000002': 'Hi, Thank you for your request to do a prerequisite check. The system that I use to check your records is down and I therefore cannot do the check at this stage. I will try again later. Sorry. With kind regards, , PhD Professor and Graduate Coordinator, MS BAIS College of Business, University of South Florida', 'question000003': 'Hi, Thank you for your request to do a prerequisite check. I have reviewed your transcripts and resume from your application, and you have the following prerequisites to complete:  Economics  Financial Accounting You can find a link with courses you can take to satisfy the prerequisites at  It is of course possible that I overlooked something in either your resume or your transcript that would allow us to waive more prerequisites. If so, please let me know within 30 days of receipt of this email. Please do so by responding to this message, and do not create a message from scratch. With kind regards, , PhD Professor and Graduate Coordinator, MS BAIS College of Business, University of South Florida'\",\n",
       " \"'question000001': 'Sir/Madam, Greetings of the day!!! This is , Thanks for giving the admission and i-20 for BAIS (Fall 2023) . I am writing this mail to inquire about the prerequisite courses that I need to take up before the start of my First class in Aug 2023 ? Can you please verify my profile and do the needful. Below are the details for your reference: -  USF ID: U58683362 Undergraduate Major : Computer Science Job Experience : Yes (Software Engineer) I look forward to hearing from you. , ', 'response000002': 'Hi, Thank you for your request to do a prerequisite check. The system that I use to check your records is down and I therefore cannot do the check at this stage. I will try again later. Sorry. With kind regards, , PhD Professor and Graduate Coordinator, MS BAIS College of Business, University of South Florida', 'question000003': 'Hi, Thank you for your request to do a prerequisite check. The system is back up. However, according to my records you have not yet registered for orientation, and I cannot do the prerequisite check until you do so. So, please register for orientation and send me an email once you have done so. I can then do the prerequisite check. Thanks. , PhD Professor and Graduate Coordinator, MS BAIS College of Business, University of South Florida', 'response000004': 'Hi Team, I've successfully registered for the orientation. Can you please check now about my prerequisites.! Regards, .', 'question000005': 'Hi, Thanks for registering for orientation. Unfortunately, the system that we use to check your records is down. Sorry. I will try again later and get back to you. With kind regards , PhD Professor and Graduate Coordinator, MS BAIS College of Business, University of South Florida', 'response000006': 'Hi  Can you please process my request as soon as possible. Regards, .', 'question000007': 'Hi, As I said, the system that we use to check your records is down. Sorry. Of course, had you done as we asked you do and registered for orientation before asking for a prerequisite check, we would not be in this situation. Anyway, IT is working on this, and I will try again later and get back to you. With kind regards , PhD Professor and Graduate Coordinator, MS BAIS College of Business, University of South Florida', 'response000008': 'Hi, The system that I used to look at your records has (finally) come back up. I have reviewed your transcripts and resume from your application, and you have the following prerequisites to complete:  Economics  Financial Accounting You can find a link with courses you can take to satisfy the prerequisites at  It is of course possible that I overlooked something in either your resume or your transcript that would allow us to waive more prerequisites. If so, please let me know within 30 days of receipt of this email. Please do so by responding to this message, and do not create a message from scratch. With kind regards, , PhD Professor and Graduate Coordinator, MS BAIS College of Business, University of South Florida', 'question000009': 'Hi , Thank you for letting me know about my prerequisites. I got a small request from my side i.e is it ok if i complete Financial Accounting too from coursera itself as it would be easier for me and possibly save some cost. Hope you respond to this in a positive way and as soon as possible. Regards, .', 'response000010': 'Hi, The courses on the list are the only ones the faculty have approved. Sorry. With kind regards, , PhD Professor and Graduate Coordinator, MS BAIS College of Business, University of South Florida'\",\n",
       " '\\'question000001\\': \\'Hi I\\'m delighted to have been admitted to such a prestigious school and program. But due to some unavoidable circumstances, I\\'m considering deferral of my start date to next year/next intake. Can you please let me know the deferral policy and procedure?  On  Neyoo,  wrote: {quote} Hi I\\'m delighted to have been admitted to such a prestigious school and program. But due to some unavoidable circumstances, I\\'m considering deferral of the program to next year/next intake. Can you please let me know the deferral policy and procedure?  On  MSBAIS Communications,  wrote: Hi, Now that you have been admitted to the MS BAIS program, there are a number of additional steps we would like you to take. The file with the steps is attached. It is possible that you already received this file, in which case I apologize for unnecessarily filling your inbox With kind regards, , PhD Professor and Graduate Coordinator, MS BAIS College of Business, University of South Florida   {quote}\\', \\'response000002\\': \\'Thank you for letting us know. Would you like to defer to spring 2024 or fall 2024. I can do this on your behalf. Best, \\', \\'question000003\\': \\'Hi  Thank you for your response. Yes, that would be great. Please defer to Fall\\'2024.  Pranav Surve\\', \\'response000004\\': \\'Hi  Requesting your response to my deferral request. I intend to defer to Fall\\'24 as stated in my earlier email. Kindly confirm on the same. Regards Surve\\', \\'question000005\\': \\'   Learn why this is important   Hi  Requesting your response to my deferral request. I intend to defer to Fall\\'24 as stated in my earlier email. Kindly confirm on the same.  Surve On  Neyoo,  wrote: {quote} Hi  Thank you for your response. Yes, that would be great. Please defer to Fall\\'2024.  Surve On   Saleh,  wrote:    commented: Thank you for letting us know. Would you like to defer to spring 2024 or fall 2024. I can do this on your behalf. Best,  View request ·  Turn off this request\\'s notifications Powered by Service Management Sent on April 12, 2023 4:04:35 PM EDT {quote}\\', \\'response000006\\': \\'Hi  Gentle reminder! Can you please confirm if my deferral has been approved? Regards Surve\\', \\'question000007\\': \\'   Learn why this is important   Hi  Gentle reminder! Can you please confirm if my deferral has been approved?  Surve On  ,  wrote: {quote} Hi  Requesting your response to my deferral request. I intend to defer to Fall\\'24 as stated in my earlier email. Kindly confirm on the same.  Surve On  ,  wrote: Hi  Thank you for your response. Yes, that would be great. Please defer to Fall\\'2024.  Surve On   Saleh,  wrote:    commented: Thank you for letting us know. Would you like to defer to spring 2024 or fall 2024. I can do this on your behalf. Best,  View request ·  Turn off this request\\'s notifications Powered by Service Management Sent on April 12, 2023 4:04:35 PM EDT {quote}\\', \\'response000008\\': \\'Respected Dean, I hope this email finds you in good health. I am reaching out to you with a polite request for assistance regarding my deferral approval. I have been in communication with the admissions team, regarding my deferral request to Fall 2024. Despite my previous emails and a gentle reminder (in trail), I have not received any confirmation or acknowledgment of my deferral. Considering the importance of this matter for my academic plans, I would be sincerely grateful if you could kindly expedite the review and approval process for my deferral request. Your intervention in resolving this issue would provide me with the clarity I need to proceed with my future plans confidently. Thank you for your understanding and attention to this matter. I eagerly await your response. Warm regards, Surve\\', \\'question000009\\': \\'   Learn why this is important   Respected Dean, I hope this email finds you in good health. I am reaching out to you with a polite request for assistance regarding my deferral approval. I have been in communication with the admissions team, regarding my deferral request to Fall 2024. Despite my previous emails and a gentle reminder (in trail), I have not received any confirmation or acknowledgment of my deferral. Considering the importance of this matter for my academic plans, I would be sincerely grateful if you could kindly expedite the review and approval process for my deferral request. Your intervention in resolving this issue would provide me with the clarity I need to proceed with my future plans confidently. Thank you for your understanding and attention to this matter. I eagerly await your response. Warm regards, Surve On Tue, 9 May 2023 at 14:11,   wrote: {quote} Hi  Gentle reminder! Can you please confirm if my deferral has been approved?  Surve On  ,  wrote: Hi  Requesting your response to my deferral request. I intend to defer to Fall\\'24 as stated in my earlier email. Kindly confirm on the same.  Surve On  ,  wrote: Hi  Thank you for your response. Yes, that would be great. Please defer to Fall\\'2024.  Surve On   Saleh,  wrote:    commented: Thank you for letting us know. Would you like to defer to spring 2024 or fall 2024. I can do this on your behalf. Best,  View request ·  Turn off this request\\'s notifications Powered by Service Management Sent on April 12, 2023 4:04:35 PM EDT {quote}\\', \\'response000010\\': \\', I forwarded your request to the team. I do not have insight in the status of each applicant myself. They will reach out in the near future. Best, GJ GJ de Vreede, PhD , College of Business University of South  \\', \\'question000011\\': \\', I forwarded your request to the team. I do not have insight in the status of each applicant myself. They will reach out in the near future. Best, GJ GJ de Vreede, PhD , College of Business University of South    From:   Date: Tuesday, May 23, 2023 at 12:23 To:   Cc: \"\" , MS BAIS Admissions , USF Office of Admissions  Subject: Re: : MS BAIS program at USF Respected , I hope this email finds you in good health. I am reaching out to you with a polite request for assistance regarding my deferral approval. I have been in communication with the admissions team, regarding my deferral request to Fall 2024. Despite my previous emails and a gentle reminder (in trail), I have not received any confirmation or acknowledgment of my deferral. Considering the importance of this matter for my academic plans, I would be sincerely grateful if you could kindly expedite the review and approval process for my deferral request. Your intervention in resolving this issue would provide me with the clarity I need to proceed with my future plans confidently. Thank you for your understanding and attention to this matter. I eagerly await your response. Warm regards, Surve On Tue, 9 May 2023 at 14:11,   wrote: {quote} Hi  Gentle reminder! Can you please confirm if my deferral has been approved?  Surve On  ,  wrote: Hi  Requesting your response to my deferral request. I intend to defer to Fall\\'24 as stated in my earlier email. Kindly confirm on the same.  Surve On  ,  wrote: Hi  Thank you for your response. Yes, that would be great. Please defer to Fall\\'2024.  Surve On   Saleh,  wrote:    commented: Thank you for letting us know. Would you like to defer to spring 2024 or fall 2024. I can do this on your behalf. Best,  View request ·  Turn off this request\\'s notifications Powered by Service Management Sent on April 12, 2023 4:04:35 PM EDT {quote}\\', \\'response000012\\': \\'My apologies for not sending a confirmation, but you are all set for your deferment to fall 2024. Please let me know if you have any other questions. Best, \\'',\n",
       " \"'question000001': 'Hi, I have not received my admission letter both soft and hard copy yet. Please send both so that I can process my financial aid. I received a link to my offer letter which redirected me to a jira account to which I had no access to. Kindly send me a PDF asap. Also, a hard copy to my address. U number- U78055250', 'response000002': 'HiI haven't recieved my e letter yet. Please respond as soon as possible', 'question000003': 'Please find the official letter attached. Thanks, ', 'response000004': 'This link does not work, again. Please find a solution asap. !Screenshot (645).pngthumbnail!'\",\n",
       " \"'question000001': 'Hi Team My usf email is -  I am  with USF ID:  Term of Entry: 2023 Graduate Degree: Master of Science Graduate Major: Business Analytics and Information Systems I have received the admit for BAIS program -2023, and I require the official admit letter (electronic version) for the purpose of securing education loan to fund my masters. And also if I can get I-20 estimate for 2023-2024 as on website the pdf available is of 2022-2023. Please help me get it as soon as possible. to hear from you. Thanks,  Chaudhary', 'response000002': 'I haven't received it yet. Any updates on this? Please let me know. Thanks & Regards Sanchit. ', 'question000003': 'Please find the official letter attached. Thanks, ', 'response000004': 'Hi , I can't open the attached pdf.It's (link) is just not opening up, I am getting an error message which I attached as screenshot. Can you please send it as attachment, I urgently need it to complete my loan application. Thanks and regards, Sanchit !!  ', 'question000005': 'Did you request a Jira account? You will need to create one, in order to view documents. Best, '\",\n",
       " \"'question000001': 'Morning, Query - I have been waitlisted for the course Warehousing CRN 50118 on Mar 28. On 10th April morning, I checked the waitlist position as 6, and on Apr 11th the Waitlist position was 7. I observed that the waitlist position has changed from 6 to 7. So to confirm that there is a change I took a screenshot of the same. But surprisingly today (Apr 11) in the evening the Waitlist position - was changed from 7 to 8. Please find the screenshots of waitlist positions 7 and 8 below. I am really worried that I won't get a seat for this course. I am interested in taking warehousing course because my goal is to land a job in Engineering roles and I would like to know much more about how the data is collected and stored in data warehouses before they were processed and loaded into Databases. I am eagerly waiting for this course to be registered for summer 2023 since the same course was not offered in Fall 2023, also I am planning to graduate in Fall 2023 so I would like to take 2 courses in the summer. Right now for summer 2023, I have registered for Network, Systems, and Security CRN 52334, and Science Programming CRN 50184. I am okay to be dropped from CRN 50184 if I am registered for CRN 50118. I would really appreciate it if you can help address my query about the increase in the waitlist position and help me in registering for the course Warehousing CRN 50118. Thanks, , ', 'response000002': '!7.jpegthumbnail! !8.jpegthumbnail!', 'question000003': 'Hi, I am not sure why you dropped in the waitlist. I do not control it. As far as getting the Data Warehousing course is concerned, we are planning to offer the course in the Fall as well. Please keep an eye out for an announcement on this on the MS BAIS Current Students Canvas course. Han , PhD Professor and Graduate Coordinator, MS BAIS College of Business, University of South Florida'\",\n",
       " '\\'question000001\\': \\'Hi Professor, I am  Yenreddy, pursuing masters in BAIS at USF.I was not able to register for any classes for fall 2023 and I am unable to select desired courses both for summer and Fall 2023.I am interested to enroll in Data ware housing course. But there is only one class available for summer 2023 and it is full. The course is not available in Fall. Could you please increase the seats for the course or open course for fall 2023. Also same with course Solutions Architecture, which is having only one class for Fall 2023. Thanks,  U23954654\\', \\'response000002\\': \\'Hi, Thank you for your request to enroll you for courses in the Fall. Dr  and I have looked at the situation and we will be adding a number of face-to-face courses to the schedule. We are looking at the restrictions on the various courses that you want to register for. Once we have greater clarity on all this, I will leave a message on the MS BAIS Current Students Canvas course, and you should be able to find additional courses to register for. We therefore will not, at this point, manually register you for any courses. In the meantime, please be patient. Best – Han , PhD Professor and Graduate Coordinator, MS BAIS College of Business, University of South Florida\\', \\'question000003\\': \\'Han, Did you send this to the student or just to me?   Assistant Director MBA Programs and Graduate Certificate Director Graduate Studies Office Muma College of Business University of South  (813) 974-4153/(813) 974-4518 (fax) Pronouns: She/Her/Hers !image001.pngthumbnail! Program links:  MBA Programs   Master\\'s Programs   Application Process  \"Due to Florida’s broad open records law, email to or from university employees is public record, available to the public and the media upon request.” From:   Sent: Wednesday, April 12, 2023 1:27 PM To:   Subject: MUMAJIRA-1553 Please help me getting DataWare housing and Solutions Architechture Courses\\'',\n",
       " \"'question000001': 'Professor, I look forward to registering in these courses ISM 6577 (Decision Processes for Business Continuity & Recovery) with CRN 82280 or 82292, and ISM 6328 (Information Security & Management) with CRN 80347. Please enroll me to these courses as I want to graduate this December. Apologies for the inconvenience. Regards, ', 'response000002': 'Hi, Thank you for your request to enroll you for courses in the Fall. Dr  and I have looked at the situation and we will be adding a number of face-to-face courses to the schedule. We are looking at the restrictions on the various courses that you want to register for. Once we have greater clarity on all this, I will leave a message on the MS BAIS Current Students Canvas course, and you should be able to find additional courses to register for. We therefore will not, at this point, manually register you for any courses. In the meantime, please be patient. Best – Han , PhD Professor and Graduate Coordinator, MS BAIS College of Business, University of South Florida'\",\n",
       " \"'question000001': 'Hi Team, Greetings of the day! Hope my mail finds you well. My self is P. VIJAY TEJ (U1966-9900) currently Pursuing masters in business analytics & Information systems. As I’m Interested to register for Project Management & 82280 - DP &BCDR courses for the upcoming Fall - 2023 semester. Since I haven’t received any courses during course registration & In - fact after registration those subjects are also been dropped and I’m not having any option. Kindly request your help for register into both courses. Thanks & regards, P. VIJAY TEJ.', 'response000002': 'Hi, Thank you for your request to enroll you for courses in the Fall. Dr  and I have looked at the situation and we will be adding a number of face-to-face courses to the schedule. We are looking at the restrictions on the various courses that you want to register for. Once we have greater clarity on all this, I will leave a message on the MS BAIS Current Students Canvas course, and you should be able to find additional courses to register for. We therefore will not, at this point, manually register you for any courses. In the meantime, please be patient. Best – Han , PhD Professor and Graduate Coordinator, MS BAIS College of Business, University of South Florida'\",\n",
       " \"'question000001': 'Professor, I was only able to register for two courses, two other courses which I have registered are dropped and few have thrown errors while adding them back, now I require three more credits to register for fall semester. Please register me for any of these Project Management courses (CRN 80113, 80334, 82133), if possible. It would be of great help. Attaching my Unumber and email for reference U-number:  Mail id:  Best regards, ', 'response000002': 'Hi, Thank you for your request to enroll you for courses in the Fall. Dr  and I have looked at the situation and we will be adding a number of face-to-face courses to the schedule. We are looking at the restrictions on the various courses that you want to register for. Once we have greater clarity on all this, I will leave a message on the MS BAIS Current Students Canvas course, and you should be able to find additional courses to register for. We therefore will not, at this point, manually register you for any courses. In the meantime, please be patient. Best – Han , PhD Professor and Graduate Coordinator, MS BAIS College of Business, University of South Florida'\",\n",
       " \"'question000001': 'Hello, I am  with UID U04880400 trying to register for Enterprise Information Systems Management with CRN No. 80275, which is the only core subject left for me to complete and I am unable to register because of the permit required restriction. Could you please help me to register to the course by giving the permit. Thank you in advance, .', 'response000002': 'Hi, You are not eligible for this course, as you would have known if you had used USF Staff Schedule Search as recommended on the MS BAIS Current Students web site. Your failure to use the information available to you leads to more and unnecessary work for us. Han , PhD Professor and Graduate Coordinator, MS BAIS College of Business, University of South Florida'\",\n",
       " \"'question000001': '{quote} Dear Admissions Committee:{quote} {quote} I am writing in response to your offer of admission to the MS BAIS Program. I appreciate your interest in me, but I regret to inform you that I will not be accepting your offer of admission. Thank you for your time and consideration.{quote} {quote} Sincerely,{quote} {quote} Kim{quote} 2023년 2월 24일 (금) 오전 5:50,  님이 작성: {quote} Hello, Congratulations We have recommended that you be admitted to the MS BAIS program for Fall 2023. You will receive an official acceptance once the Graduate School processes this request. At that time, you will be able to log into your application with the updated status. Keep in mind, it can take up to 15 business days in order to officially process this admit. We will not be able to provide an electronic version of your letter until this is completed. You will receive an email from the Graduate School, once your acceptance has been updated. Please include your U number, when you reach out for an electronic letter. We do not require a formal confirmation, but rather, ask you to register for orientation when the next email is received. As a new student, you will need to complete a few more steps before getting started: . We also encourage you to check out the New Graduate Student page at:  You will need to set up your  multifactor authentication , before you can log into your USF accounts. Save the date, our orientation will be August 17th. We will send you more information about arrival week soon. International Students: you will receive more information from Immigration Services in regard to I20 next steps. If you would like to set up office hours with them, access this link:  You are not able to access your  iStart account until you have been admitted by Graduate School. Please don't hesitate to reach out with any questions, as you continue to move forward. We can schedule a time to meet during virtual office hours Wednesday and Friday between 9:30am-11:30am EST. You can also join our 'Information Session each Thursday from 9:30am-10:00am EST. Congrats again and we look forward to connecting with you soon! With kind regards,  MS BAIS Academic Advisor School of Information Systems and Management Muma College of Business !image.pngthumbnail! {quote}', 'response000002': '!image.pngthumbnail!', 'question000003': 'Thank you for letting me know. I’ve cancelled your application for fall 2024. Best of luck, '\",\n",
       " \"'question000001': 'Professor , Currently, I am enrolled in the following subjects. # Big for Business # Science Programming # System Analysis and Design # Information Systems And During Semester 1 I took the following Subject # Mining # Analytical Methods for Business # database Management Systems I am looking forward to taking the following elective subjects for Fall 2023 as they align well with my goals. I am registered for DIS but unable to register for these subjects. Kindly help with the registration of the following subjects. # Project Management # Business continuity and Disaster recovery Regards, ', 'response000002': 'Hi, Thank you for your request to enroll you for courses in the Fall. Dr  and I have looked at the situation and we will be adding a number of face-to-face courses to the schedule. We are looking at the restrictions on the various courses that you want to register for. Once we have greater clarity on all this, I will leave a message on the MS BAIS Current Students Canvas course, and you should be able to find additional courses to register for. We therefore will not, at this point, manually register you for any courses. In the meantime, please be patient. Best – Han , PhD Professor and Graduate Coordinator, MS BAIS College of Business, University of South Florida'\",\n",
       " \"'question000001': 'Team, you are doing well! I am interested to register for Decision Processes for Business Continuity & Recovery - 82280 - ISM 6577 - 521 instead of Information Security & Management - ISM 6328 - 021. Requesting you to please make these necesary changes in my course registration for Fall 2023. ,  U28512729', 'response000002': 'Hi, Thank you for your request to enroll you for courses in the Fall. Dr  and I have looked at the situation and we will be adding a number of face-to-face courses to the schedule. We are looking at the restrictions on the various courses that you want to register for. Once we have greater clarity on all this, I will leave a message on the MS BAIS Current Students Canvas course, and you should be able to find additional courses to register for. We therefore will not, at this point, manually register you for any courses. In the meantime, please be patient. Best – Han , PhD Professor and Graduate Coordinator, MS BAIS College of Business, University of South Florida'\",\n",
       " \"'question000001': 'Professor, Day. I am  , current graduate student at Muma College of Business. The courses that I have registered for the fall of 2023 are listed below. !image.pngthumbnail! I am aspiring to the roles of a product manager or a data scientist and would like to pursue courses related to those. I could not get this course due to its unavailability at my time slot of registration. Hence, I have registered for the Tech Foundation of AI course to attain my student status of acquiring 9 credits. I request that you drop me from the CRN: 86662 (Tech Foundation of AI course) and enroll me in the CRN: 80334 (Project Management course). This would help me in enhancing my project management skills. My U Number is U80765768, and I am also requesting that you not drop me from the Big and Science Programming wait list, as I am hoping to finish my Masters as early as possible. I am grateful for your assistance and understanding in this matter. If you need any further information from me, please let me know. I am looking forward to your positive response. Thank you for your time and consideration. Thanks &    U80765768', 'response000002': '!image.pngthumbnail!', 'question000003': 'Hi, Thank you for your request to enroll you for courses in the Fall. Dr  and I have looked at the situation and we will be adding a number of face-to-face courses to the schedule. We are looking at the restrictions on the various courses that you want to register for. Once we have greater clarity on all this, I will leave a message on the MS BAIS Current Students Canvas course, and you should be able to find additional courses to register for. We therefore will not, at this point, manually register you for any courses. In the meantime, please be patient. Best – Han , PhD Professor and Graduate Coordinator, MS BAIS College of Business, University of South Florida'\",\n",
       " \"'question000001': 'Greetings for the day , I am writing this mail regarding the courses for Fall 2023 semester. Can you Please kindly Add me CRN NO 80458 ISM 6328 for Information Security & Management, CRN NO 80334 for Project management ISM 6316 and CRN NO 80156 for Enterprise Information Systems Management. I have only one course web registered till date. Please add me these subjects for Fall 2023. Thanks in advance. Regards, , U33032085.', 'response000002': 'Hi, Thank you for your request to enroll you for courses in the Fall. Dr  and I have looked at the situation and we will be adding a number of face-to-face courses to the schedule. We are looking at the restrictions on the various courses that you want to register for. Once we have greater clarity on all this, I will leave a message on the MS BAIS Current Students Canvas course, and you should be able to find additional courses to register for. We therefore will not, at this point, manually register you for any courses. In the meantime, please be patient. Best – Han , PhD Professor and Graduate Coordinator, MS BAIS College of Business, University of South Florida'\",\n",
       " \"'question000001': 'Hello all, I was web-registered only two courses in the fall 2023. I need one more course of project management i.e. ISM 80334. Can you please add me for the Fall 2023 web-registration. Right now, only 13 seats are available in the classroom. Could you please add the project management for me ASAP. Regards,  Reddy , U33464027.', 'response000002': 'Hi, Thank you for your request to enroll you for courses in the Fall. Dr  and I have looked at the situation and we will be adding a number of face-to-face courses to the schedule. We are looking at the restrictions on the various courses that you want to register for. Once we have greater clarity on all this, I will leave a message on the MS BAIS Current Students Canvas course, and you should be able to find additional courses to register for. We therefore will not, at this point, manually register you for any courses. In the meantime, please be patient. Best – Han , PhD Professor and Graduate Coordinator, MS BAIS College of Business, University of South Florida'\",\n",
       " \"'question000001': 'Greetings for the day , I am writing this mail regarding the subjetcs for Fall 2023 semester. Can you Please kindly Add me CRN NO 80458 ISM 6328 for Information Security & Management and CRN NO 80334 for Project management ISM 6316, I have only one course web registered till date. Please add me these subjects which will make 9 credits for Fall 2023. Thanks in advance. , , U69871422.', 'response000002': 'Hi, Thank you for your request to enroll you for courses in the Fall. Dr  and I have looked at the situation and we will be adding a number of face-to-face courses to the schedule. We are looking at the restrictions on the various courses that you want to register for. Once we have greater clarity on all this, I will leave a message on the MS BAIS Current Students Canvas course, and you should be able to find additional courses to register for. We therefore will not, at this point, manually register you for any courses. In the meantime, please be patient. Best – Han , PhD Professor and Graduate Coordinator, MS BAIS College of Business, University of South Florida'\",\n",
       " \"'question000001': 'Professor , I am having a doubt that we can take subject online in summer and go out USA(India) and complete the course ? Thanks, ', 'response000002': 'Hi, Did you not get the email from ISS? It explains the situation. Han , PhD Professor and Graduate Coordinator, MS BAIS College of Business, University of South Florida'\",\n",
       " \"'question000001': 'Hello, you are doing well! Kindly refer the below list to update my preferred courses and please register me based on the course availability. CRN 80347 - ISM 6328 021 - Information Security and Management CRN 82280 - ISM 6577 521 - Decision Processes for Business Continuity & Recovery CRN 82292 - ISM 6577 300 - Decision Processes for Business Continuity & Recovery Thank you. Best Regards', 'response000002': 'Hi, Thank you for your request to enroll you for courses in the Fall. Dr  and I have looked at the situation and we will be adding a number of face-to-face courses to the schedule. We are looking at the restrictions on the various courses that you want to register for. Once we have greater clarity on all this, I will leave a message on the MS BAIS Current Students Canvas course, and you should be able to find additional courses to register for. We therefore will not, at this point, manually register you for any courses. In the meantime, please be patient. Best – Han , PhD Professor and Graduate Coordinator, MS BAIS College of Business, University of South Florida'\",\n",
       " \"'question000001': 'Hello, you are doing well! Kindly refer the below list to update my preferred courses and please register me based on the course availability. CRN 80334 - ISM 6316 901 - Management CRN 80113 - ISM 6316 021 - Management CRN 80347 - ISM 6328 021 - Information Security and Management CRN 82280 - ISM 6577 521 - Decision Processes for Business Continuity & Recovery CRN 82292 - ISM 6577 300 - Decision Processes for Business Continuity & Recovery Thank you. Best Regards   From:   Date: Tuesday, April 11, 2023 at 2:06 PM To: MS BAIS  Subject: Fall 2023 Registration Good Afternoon, My name is  with U95670175. I got my class registration slot for Fall 2023 at 1:00 PM and I could not register to the courses that I would like to. I would like to register to the below mentioned courses. CRN 80334 - Management CRN 82280 - BCDR Kindly help me with the registrations. Thank you. Best Regards ', 'response000002': 'Hi, Thank you for your request to enroll you for courses in the Fall. Dr  and I have looked at the situation and we will be adding a number of face-to-face courses to the schedule. We are looking at the restrictions on the various courses that you want to register for. Once we have greater clarity on all this, I will leave a message on the MS BAIS Current Students Canvas course, and you should be able to find additional courses to register for. We therefore will not, at this point, manually register you for any courses. In the meantime, please be patient. Best – Han , PhD Professor and Graduate Coordinator, MS BAIS College of Business, University of South Florida'\",\n",
       " \"'question000001': 'Hi , I have registered for the courses Information Security & management at the time of registration, but it has been dropped from that course. Currently I have only one active registration for the fall semester and my remaining credits for completion of my graduation was 9. Can you please register me for the information Security and management course which will be helpful for completing my degree by the Fall semester. Thanks, , U32900491.', 'response000002': 'Hi, Thank you for your request to enroll you for courses in the Fall. Dr  and I have looked at the situation and we will be adding a number of face-to-face courses to the schedule. We are looking at the restrictions on the various courses that you want to register for. Once we have greater clarity on all this, I will leave a message on the MS BAIS Current Students Canvas course, and you should be able to find additional courses to register for. We therefore will not, at this point, manually register you for any courses. In the meantime, please be patient. Best – Han , PhD Professor and Graduate Coordinator, MS BAIS College of Business, University of South Florida'\",\n",
       " \"'question000001': 'Hello, I am , a graduate student in BAIS with a UID of U35263346. I am interested in pursuing the course Information Security & Management(CRN 80458), ISM6328, during the Fall semester. I kindly request your approval to enroll in this class as my interest lies in this course and I’m going to graduate in the Fall of 2023. Best regards, ', 'response000002': 'Hi, Thank you for your request to enroll you for courses in the Fall. Dr  and I have looked at the situation and we will be adding a number of face-to-face courses to the schedule. We are looking at the restrictions on the various courses that you want to register for. Once we have greater clarity on all this, I will leave a message on the MS BAIS Current Students Canvas course, and you should be able to find additional courses to register for. We therefore will not, at this point, manually register you for any courses. In the meantime, please be patient. Best – Han , PhD Professor and Graduate Coordinator, MS BAIS College of Business, University of South Florida'\",\n",
       " \"'question000001': 'Hello, I am writing to request a clarification on the summer 2023 college fee for each subject. As I was reviewing the tuition fees for the upcoming semesters, I noticed that the cost for each subject during the Fall 2022 and Spring 2023 semesters is around $2700 USD. However, when I received the fee for each subject for the summer 2023 semester, it was listed as $3000 USD. I wanted to confirm if this is the correct fee for the summer 2023 semester or if there has been a mistake. If possible, could you please check and verify the fee for me? I would appreciate any information or assistance you can provide regarding this matter. Thank you for your attention and help. I look forward to hearing from you soon. PFA Best regards, Siva.', 'response000002': '(64 kB) (46 kB)', 'question000003': 'Hi , The summer cost includes both the tuition, which is still $2,300, and the fees. You also pay these fees in the Spring and the Fall, as you will see if you look at your bill for the Spring. As I understand it, fees are calculated on a per semester basis, not on a per credit hour basis as tuition is. I hope that this helps. Han , PhD Professor and Graduate Coordinator, MS BAIS College of Business, University of South Florida'\",\n",
       " \"'question000001': 'Greetings, I am  and my U Number is U99286608. I was planning to take some courses for the Fall semester but was unable to register to those classes due to unavailability of seats during my registration slot. I had these subjects in mind for a very long time and would like to study them during the course of my master's degree. I respectfully request your kind consideration in facilitating my enrollment into these courses. Below are the subjects that I request you to enroll me in:  Information Security & Management (80355) or any Information Security & Management Course  Decision Processes for Business Continuity & Recovery(82282)  Decision Processes for Business Continuity & Recovery (82280)  Foundations of AI (86662) Awaiting a positive response. Thanks &  Surya Teja ', 'response000002': 'Hi, Thank you for your request to enroll you for courses in the Fall. Dr  and I have looked at the situation and we will be adding a number of face-to-face courses to the schedule. We are looking at the restrictions on the various courses that you want to register for. Once we have greater clarity on all this, I will leave a message on the MS BAIS Current Students Canvas course, and you should be able to find additional courses to register for. We therefore will not, at this point, manually register you for any courses. In the meantime, please be patient. Best – Han , PhD Professor and Graduate Coordinator, MS BAIS College of Business, University of South Florida'\",\n",
       " \"'question000001': 'Professor, I am a graduate student (U17620025) for MS in BAIS, During the Fall 2023 course registration I didn't get my interested subjects. Please register me for the Decision Processes for Business Continuity & Recovery course (CRN: 82280). Please do the needful help. And also can you please change the grade mode to regular for CRN 80334? Thank you so much for your help. Regards, Yogesh U17620025', 'response000002': 'Hi, Thank you for your request to enroll you for courses in the Fall. Dr  and I have looked at the situation and we will be adding a number of face-to-face courses to the schedule. We are looking at the restrictions on the various courses that you want to register for. Once we have greater clarity on all this, I will leave a message on the MS BAIS Current Students Canvas course, and you should be able to find additional courses to register for. We therefore will not, at this point, manually register you for any courses. In the meantime, please be patient. Best – Han , PhD Professor and Graduate Coordinator, MS BAIS College of Business, University of South Florida'\",\n",
       " \"'question000001': 'Greetings for the day! I would like to bring in your kind attention that I intend to graduate in Fall. I have registered for Management and Information Security and risk management. I fail to understand why my courses were dropped. I want to do Management and information security and risk management in summer. Kindly consider my situation and do the possible accordingly. Thanks & Best Regards  4025413898', 'response000002': 'Please list the CRN for both courses that you were dropped from.', 'question000003': ' Greetings for the day!    Kindly find the CRN details of the subjects that I was dropped from for Summer :  Management- 50180    Fundamentals of Management & Analysis - 50127 Kindly find the CRN details of the subjects that I was dropped from for Fall :  Information Security & Management -80355  Thanks & Best Regards  U 8850 4979 ', 'response000004': 'Hi, Thank you for your request to enroll you for courses in the Fall. Dr  and I have looked at the situation and we will be adding a number of face-to-face courses to the schedule. We are looking at the restrictions on the various courses that you want to register for. Once we have greater clarity on all this, I will leave a message on the MS BAIS Current Students Canvas course, and you should be able to find additional courses to register for. We therefore will not, at this point, manually register you for any courses. In the meantime, please be patient. Best – Han , PhD Professor and Graduate Coordinator, MS BAIS College of Business, University of South Florida'\",\n",
       " \"'question000001': 'Sir/Mam, Greetings. I am planning to graduate in Fall 2023, and currently, I am trying to get registered for Decision Processes for Business Continuity & Recovery CRN 82280 and Information Security & Management CRN 80347 but I couldn't register even though it has no field of study restriction. I would be grateful if you register me for CRN 82280, CRN 80347. In addition, I am interested/prefer in below CRNs of the courses:  CRN 82280  CRN 80347  CRN 82176 Thanks, ,   From:   Sent: Tuesday, April 11, 2023 3:44 PM To:   Subject: Re: Fall 2023 Course Registration,  Hi, send this email to  This will allow us to deal with this more effectively. Include your U number and the CRNs of the courses you prefer. Han -- Reichgelt, PhD Graduate Coordinator, MS BAIS Professor of Information Systems School of Information Systems and Management Muma College of Business University of South St Petersburg campus (727) 873-4786  From:   Sent: Tuesday, April 11, 2023 3:33 PM To:  Subject: Fall 2023 Course Registration, U59107089 Professor, Greetings. I am planning to graduate in Fall 2023, and currently, I am trying to get enroll for Decision Processes for Business Continuity & Recovery CRN 82280, but I couldn't even though it has no field of study restriction. I would be grateful if you register me for CRN 82280. Thanks, , U59107089', 'response000002': 'Hi, Thank you for your request to enroll you for courses in the Fall. Dr  and I have looked at the situation and we will be adding a number of face-to-face courses to the schedule. We are looking at the restrictions on the various courses that you want to register for. Once we have greater clarity on all this, I will leave a message on the MS BAIS Current Students Canvas course, and you should be able to find additional courses to register for. We therefore will not, at this point, manually register you for any courses. In the meantime, please be patient. Best – Han , PhD Professor and Graduate Coordinator, MS BAIS College of Business, University of South Florida'\",\n",
       " \"'question000001': 'Hello, I am , a graduate student in BAIS with a UID of U35263346. I am interested in pursuing the course Systems Analysis & Design (CRN 50237), ISM6124, during the summer semester. I kindly request your approval to enroll in this class. Best regards, ', 'response000002': 'Hi, You are not eligible for this course, as you would have known if you had used USF Staff Schedule Search as recommended on the MS BAIS Current Students web site. Your failure to use the information available to you leads to more and unnecessary work for us. Han , PhD Professor and Graduate Coordinator, MS BAIS College of Business, University of South Florida'\",\n",
       " '\\'question000001\\': \\'Evening, I\\'m going to complete my master\\'s in December 2023. So, I kindly request that you provide me with the subject \"warehousing with So, I kindly request that you provide me with the subject \"warehousing with CRN 50118\" for the summer break. And for me, not even one subject is registered for the fall semester. Science Programming with CRN 80148 is on the waiting list . Please register me for these two subjects. Thanks  Thanks  Student BAIS (Business Analytics and Information Systems) School of information systems and Management USF Muma College of Business  P: 8137055979  Email:  \\', \\'response000002\\': \\'Please provide me with your U-Number.\\', \\'question000003\\': \\'Hello, U number is U34932870.  {adf}},},}},},},},},},},},{\"}\\', \\'response000004\\': \\'50118 is currently closed for the summer.\\'',\n",
       " \"'question000001': 'Professor, I have currently had three courses for this FALL 2023, and I would like to drop 80347 Information Security & Management and add 82280 DP&BCDR course as I want to work on information security during my last semester. Please consider my request and do the needful. Thanks in advance  ', 'response000002': 'Hi, Thank you for your request to enroll you for courses in the Fall. Dr  and I have looked at the situation and we will be adding a number of face-to-face courses to the schedule. We are looking at the restrictions on the various courses that you want to register for. Once we have greater clarity on all this, I will leave a message on the MS BAIS Current Students Canvas course, and you should be able to find additional courses to register for. We therefore will not, at this point, manually register you for any courses. In the meantime, please be patient. Best – Han , PhD Professor and Graduate Coordinator, MS BAIS College of Business, University of South Florida'\",\n",
       " \"'question000001': 'Hi Dr., I have applied for the BAIS Program Spring 2023, where I was asked to fill a form to defer the Application to Fall 2023. I have filled the form and submitted the Application in December 2022. Later on I haven't got any update. Can you please suggest what can I do at this point. Should I apply again for ? , ', 'response000002': 'It looks like you were denied for spring 2023. This could have been due to program being full. At this time, we are no longer reviewing for fall 2023. If you are interested in moving forward, you will need to reapply for that term. Please let me know if you have any other questions. Best, '\",\n",
       " \"'question000001': 'Dr , I hope this email finds you well. I am writing to express my strong interest in the BAIS (Business Analytics and Information Systems) Masters program at University of South Florida (USF). Although I am aware that the application deadline has passed, I would like to request special consideration for late admission due to my circumstances. I recently graduated from the USF in December, majoring in the same field, Information Studies. Since then, I have been eagerly waiting to start my career and have applied for Optional Practical Training (OPT) to work in the United States. However, given the current economic conditions, I have been unable to land a job yet and was considering going for masters. As luck would have it, I am currently in Tampa, where USF is located, and I am awaiting a job opportunity. Having researched extensively, I am impressed with the esteemed faculty, rigorous curriculum, and excellent reputation of USF's BAIS Masters program. I am confident that this program aligns perfectly with my academic and career goals, and I am highly motivated to contribute to the diverse academic community at USF. While I understand that I am requesting late admission, I am committed to making up for the missed deadlines and catching up with the program requirements. I am determined to excel in my studies and contribute to the academic and professional community at USF. I would be grateful for any opportunity to be considered for late admission to the BAIS Masters program. Thank you for considering my request. I look forward to hearing from you soon. Sincerely, ', 'response000002': 'Thank you for reaching out. What is your VISA status at the moment, since you are in Tampa. Best, ', 'question000003': 'Hi I’m currently on my F1 visa, but I also have my EAD card', 'response000004': ', I hope this email finds you well. I am writing to kindly follow up on my previous email requesting late admission to the BAIS Masters program at University Name. As a recent graduate from USF in the same major and currently on OPT in Tampa, I remain highly interested and committed to joining the program. Thank you. Sincerely, '\",\n",
       " \"'question000001': 'Professor, I am reaching out to request your permission to register for three courses that I believe would be beneficial for my career. The courses I am interested in are Decision Processes for Business Continuity & Recovery (Summer Semester CRN – 50182), project management (Fall Semester CRN - 80334) and Information Security & Management (Fall Semester CRN - 80347), which are among several courses that influenced my decision to select the Business Analytics and Information Systems program at this particular university. My career aspirations involve working in the field of data analytics, with a focus on risk management and project management. I believe that these courses would provide me with valuable knowledge and skills that would help me in this pursuit. The curriculum of these courses aligns perfectly with my career goals, and I am excited about the opportunity to learn from the experienced faculty in this field. In addition, with the increasing emphasis on cybersecurity and the potential impact of cyber-attacks on organizations, I believe that the Information Security & Management course would be beneficial for me to have a deeper understanding of how to mitigate these risks. These courses are highly relevant to my career path, and I believe that they will equip me with the necessary skills and knowledge to excel in this field. I am eager to take these courses and would appreciate your assistance in allowing me to register for them. Please let me know if you need any additional information or have any questions. Thank you for your time and consideration. Sincerely,  U97236551', 'response000002': 'Hello, Your summer course has been registered for, however fall registration has not be completed. Please be patient with us as we are working diligently to get everyone registered.'\",\n",
       " \"'question000001': 'Afternoon, I wanted to check in regarding my transcript evaluations and my further course of action as to completing the application process. I spoke with  a few weeks ago and haven’t heard an update since then so I just wanted to check-in. I want to make sure I’m ready for Fall 2023 semester.', 'response000002': 'I’m unable to find your application with that U number. Did you apply for the MS BAIS program? Best, ', 'question000003': 'I was told to wait until I heard back evaluation of my transcripts. I can go ahead and submit a formal application but I need guidance on what all I would need to complete my application  '\",\n",
       " \"'question000001': 'Hello sir/mam, I am a graduating student at Muma College of Business in the MS-BAIS course who is hoping to graduate in December. I am trying to register for a Project Management course ( CRN 80334) and Decision Processes for Business Continuity & Recovery course ( CRN 82280). I am passionate towards the management courses and tried hard to enroll in these courses. I was dropped from the course for which I registered in summer and unable to enroll for Fall 2023. Can you please enroll me in these two subjects so that it can earn enough credits that will be helpful for my graduation in December. Thanks, and regards,  U53550006', 'response000002': 'Hi, Thank you for your request to enroll you for courses in the Fall. Dr  and I have looked at the situation and we will be adding a number of face-to-face courses to the schedule. We are looking at the restrictions on the various courses that you want to register for. Once we have greater clarity on all this, I will leave a message on the MS BAIS Current Students Canvas course, and you should be able to find additional courses to register for. We therefore will not, at this point, manually register you for any courses. In the meantime, please be patient. Best – Han , PhD Professor and Graduate Coordinator, MS BAIS College of Business, University of South Florida', 'question000003': 'Professor, I am reaching out to request your permission to register for a summer course that I believe would be beneficial for my career. The course I am interested in is Decision Processes for Business Continuity & Recovery (SUMMER Semester CRN – 50182). The curriculum of these courses aligns perfectly with my career goals, and I am excited about the opportunity to learn from the experienced faculty in this field. I am eager to take this course and would appreciate your assistance in allowing me to register for the course. Thank you for your time and consideration. Sincerely,  '\",\n",
       " \"'question000001': 'Afternoon, My name is  with U95670175. I got my class registration slot for Fall 2023 at 1:00 PM and I could not register to the courses that I would like to. I would like to register to the below mentioned courses. CRN 80334 - Management CRN 82280 - BCDR Kindly help me with the registrations. Thank you. Best Regards ', 'response000002': 'Hi, Thank you for your request to enroll you for courses in the Fall. Dr  and I have looked at the situation and we will be adding a number of face-to-face courses to the schedule. We are looking at the restrictions on the various courses that you want to register for. Once we have greater clarity on all this, I will leave a message on the MS BAIS Current Students Canvas course, and you should be able to find additional courses to register for. We therefore will not, at this point, manually register you for any courses. In the meantime, please be patient. Best – Han , PhD Professor and Graduate Coordinator, MS BAIS College of Business, University of South Florida'\",\n",
       " \"'question000001': 'Hello , This is  U-74844599 I'm unable to register to the course CRN 82280 - BCDR Please help me with this Thank you ', 'response000002': 'Hi, Thank you for your request to enroll you for courses in the Fall. Dr  and I have looked at the situation and we will be adding a number of face-to-face courses to the schedule. We are looking at the restrictions on the various courses that you want to register for. Once we have greater clarity on all this, I will leave a message on the MS BAIS Current Students Canvas course, and you should be able to find additional courses to register for. We therefore will not, at this point, manually register you for any courses. In the meantime, please be patient. Best – Han , PhD Professor and Graduate Coordinator, MS BAIS College of Business, University of South Florida'\",\n",
       " \"'question000001': 'Hi , I am  Poreddy(U15850727) a graduate student from the fall 2022 batch. I am unable to register for at least one course this fall semester. I have two core subjects left DIS and EIS. I request you to please register me for the course with CRN(80699) for Distribution Information Systems and Enterprise Information Systems Management course for fall 2023. Regards,  Poreddy', 'response000002': 'Hi, According to my records, you did not complete the form we sent out last week. Are you planning to graduate in the Fall? Han , PhD Professor and Graduate Coordinator, MS BAIS College of Business, University of South Florida'\",\n",
       " \"'question000001': 'Greetings, This email confirms the following the Muma College of Business (MCOB) Graduate Course Permit Request Form was submitted on 4/11/2023 by .  U32071170 MS BAIS Business Analytics Enterprise Information Systems Management ISM 6155 80275 fall 2023  360 Tampa / Off-Campus Tampa Tampa Han Reichgelt Internal note 12'\",\n",
       " \"'question000001': 'Hello team! Am  ( U35346169), as am trying to register courses for the fall semester, could you please help me to register for the course CRN 82280 (Decision Processes for Business Continuity & Recovery). Please do the needful, Thank you! Best Regards, ', 'response000002': 'Hi, Thank you for your request to enroll you for courses in the Fall. Dr  and I have looked at the situation and we will be adding a number of face-to-face courses to the schedule. We are looking at the restrictions on the various courses that you want to register for. Once we have greater clarity on all this, I will leave a message on the MS BAIS Current Students Canvas course, and you should be able to find additional courses to register for. We therefore will not, at this point, manually register you for any courses. In the meantime, please be patient. Best – Han , PhD Professor and Graduate Coordinator, MS BAIS College of Business, University of South Florida'\",\n",
       " \"'question000001': 'Hello, I am , a graduate student in BAIS with a UID of U05262145. I am interested in pursuing the course Systems Analysis & Design (CRN 50237), ISM6124, during the summer semester. I kindly request your approval to enroll in this class. Best regards, ', 'response000002': 'Hi, You are not eligible for this course, as you would have known if you had used USF Staff Schedule Search as recommended on the MS BAIS Current Students web site. Your failure to use the information available to you leads to more and unnecessary work for us. Han , PhD Professor and Graduate Coordinator, MS BAIS College of Business, University of South Florida'\",\n",
       " \"'question000001': 'Hi, I am writing to request the required prerequisites for Business Analytics and Information Systems. As a student interested in taking this course, I want to ensure that I have fulfilled all the necessary requirements before enrolling. Could you please provide me with a list of the required prerequisites for the course? This information would be greatly appreciated, as it will help me plan my academic schedule and ensure that I am adequately prepared for the material covered in the course. Additionally, if there are any specific skills or knowledge areas that would be beneficial to have before taking the course, please let me know. I am eager to learn and want to make the most of my academic opportunities. Thank you for your time and assistance in this matter. I look forward to hearing from you soon. Sincerely,  Reddy , USF ID: U15168288', 'response000002': 'Hi, Thank you for your request to do a prerequisite check. The system that I use to check your records is down and I therefore cannot do the check at this stage. I will try again later. Sorry. With kind regards, , PhD Professor and Graduate Coordinator, MS BAIS College of Business, University of South Florida', 'question000003': 'Hi, Thank you for your request to do a prerequisite check. I have reviewed your transcripts and resume from your application, and you have the following prerequisites to complete:  Systems Analysis and Design - - This has to be completed before you can take Advanced Systems Analysis and Design You can find a link with courses you can take to satisfy the prerequisites at  It is of course possible that I overlooked something in either your resume or your transcript that would allow us to waive more prerequisites. If so, please let me know within 30 days of receipt of this email. Please do so by responding to this message, and do not create a message from scratch. With kind regards, , PhD Professor and Graduate Coordinator, MS BAIS College of Business, University of South Florida'\",\n",
       " \"'question000001': 'Hi Greetings of the day, I am  USF ID:  Term of Entry: Fall 2023 I had got an admit letter for is Business Analytics and Information systems in USF for Fall 2023, but in the admit letter which is attached below, it is mentioned that, you are provisionally admitted since we are missing some documents i.e 1. Final Official Transcripts, 2. Awarded. Actually i uploaded all my transcripts and Provisional Certificate at the time of the admission application itself, Here in attachments i am attaching the screenshot of the same, I uploaded my visa and financial documents in the istart portal for getting my i20, Is there any problem for getting i20 as it mentioned provisionally admitted. If so what shall i do for smooth processing in getting i20? Please do address my issue as soon as possible, I am eagerly waiting for my i20 to start my visa process. Thanks and  ', 'response000002': '(309 kB) !Screenshot20230411210839.jpgthumbnail!', 'question000003': 'Thank you for reaching out. You will be able to bring your official documents, when you arrive to campus. Your provisional admit will not impede your VISA and/or your course registration. Please let me know if you have any other questions. Best, '\",\n",
       " \"'question000001': 'Hi Greetings of the day, I am  USF ID:  Term of Entry: Fall 2023 I had got an admit letter for is Business Analytics and Information systems in USF for Fall 2023, but in the admit letter which is attached below, it is mentioned that, you are provisionally admitted since we are missing some documents i.e 1. Final Official Transcripts, 2. Awarded. Actually i uploaded all my transcripts and Provisional Certificate at the time of the admission application itself, Here in attachments i am attaching the screenshot of the same, I uploaded my visa and financial documents in the istart portal for getting my i20, Is there any problem for getting i20 as it mentioned provisionally admitted. If so what shall i do for smooth processing in getting i20? Please do address my issue as soon as possible, I am eagerly waiting for my i20 to start my visa process. Thanks and  ', 'response000002': '!Screenshot20230411210839.jpgthumbnail! (309 kB)'\"]"
      ]
     },
     "execution_count": 9,
     "metadata": {},
     "output_type": "execute_result"
    }
   ],
   "source": [
    "texts"
   ]
  },
  {
   "cell_type": "code",
   "execution_count": 10,
   "id": "8272d4de",
   "metadata": {},
   "outputs": [
    {
     "name": "stdout",
     "output_type": "stream",
     "text": [
      "[1264, 605, 401, 389, 363, 344, 339, 339, 334, 323, 313, 290, 283, 263, 249, 224, 220, 214, 202, 197, 197, 196, 194, 193, 190, 190, 188, 187, 184, 183, 180, 176, 175, 174, 166, 158, 147, 126, 122, 120, 113, 111, 111, 104, 101, 91, 69, 57, 49]\n"
     ]
    }
   ],
   "source": [
    "token_counts = [len(text.split()) for text in texts]\n",
    "\n",
    "sorted_token_counts = sorted(token_counts, reverse=True)\n",
    "\n",
    "print(sorted_token_counts)"
   ]
  },
  {
   "cell_type": "code",
   "execution_count": 11,
   "id": "69278fce",
   "metadata": {},
   "outputs": [],
   "source": [
    "def split_into_chunks(text, max_tokens=1000):\n",
    "    words = text.split()\n",
    "    chunks = []\n",
    "    current_chunk = []\n",
    "    current_tokens = 0\n",
    "\n",
    "    for word in words:\n",
    "        if current_tokens + len(word.split()) <= max_tokens:\n",
    "            current_chunk.append(word)\n",
    "            current_tokens += len(word.split())\n",
    "        else:\n",
    "            chunks.append(' '.join(current_chunk))\n",
    "            current_chunk = [word]\n",
    "            current_tokens = len(word.split())\n",
    "\n",
    "    chunks.append(' '.join(current_chunk))\n",
    "    return chunks"
   ]
  },
  {
   "cell_type": "code",
   "execution_count": 12,
   "id": "8062bcc6",
   "metadata": {
    "scrolled": false
   },
   "outputs": [],
   "source": [
    "class Document:\n",
    "    def __init__(self, page_content, metadata):\n",
    "        self.page_content = page_content\n",
    "        self.metadata = metadata\n",
    "\n",
    "    def __repr__(self):\n",
    "        return f\"Document(page_content='{self.page_content}', metadata={self.metadata})\"\n",
    "\n",
    "# Assuming the 'texts' list from previous code\n",
    "documents_list = [Document(page_content=text, metadata={'text': text}) for text in texts]"
   ]
  },
  {
   "cell_type": "code",
   "execution_count": 13,
   "id": "5473e9e1",
   "metadata": {},
   "outputs": [],
   "source": [
    "pinecone.init(\n",
    "    api_key=os.getenv('PINECONE_API_KEY'),  \n",
    "    environment=os.getenv('PINECONE_ENV')  \n",
    ")"
   ]
  },
  {
   "cell_type": "code",
   "execution_count": 14,
   "id": "9e2afefb",
   "metadata": {
    "scrolled": true
   },
   "outputs": [],
   "source": [
    "if PINECONE_INDEX_NAME not in pinecone.list_indexes():\n",
    "    pinecone.create_index(\n",
    "        PINECONE_INDEX_NAME,\n",
    "        dimension=1536,\n",
    "        metric='cosine'\n",
    "    )\n",
    "    # wait for index to finish initialization\n",
    "    while not pinecone.describe_index(PINECONE_INDEX_NAME).status['ready']:\n",
    "        time.sleep(1)\n",
    "        \n",
    "\n",
    "index = pinecone.Index(PINECONE_INDEX_NAME)"
   ]
  },
  {
   "cell_type": "code",
   "execution_count": 15,
   "id": "c2071339",
   "metadata": {},
   "outputs": [
    {
     "data": {
      "text/plain": [
       "{'dimension': 1536,\n",
       " 'index_fullness': 0.05939,\n",
       " 'namespaces': {'': {'vector_count': 5939}},\n",
       " 'total_vector_count': 5939}"
      ]
     },
     "execution_count": 15,
     "metadata": {},
     "output_type": "execute_result"
    }
   ],
   "source": [
    "index.describe_index_stats()"
   ]
  },
  {
   "cell_type": "code",
   "execution_count": 16,
   "id": "b7425f93",
   "metadata": {},
   "outputs": [],
   "source": [
    "embed_model = OpenAIEmbeddings(model=\"text-embedding-ada-002\")"
   ]
  },
  {
   "cell_type": "code",
   "execution_count": 17,
   "id": "ded7af1b",
   "metadata": {},
   "outputs": [
    {
     "data": {
      "text/plain": [
       "'langchain-index'"
      ]
     },
     "execution_count": 17,
     "metadata": {},
     "output_type": "execute_result"
    }
   ],
   "source": [
    "PINECONE_INDEX_NAME"
   ]
  },
  {
   "cell_type": "code",
   "execution_count": 18,
   "id": "cc39451f",
   "metadata": {},
   "outputs": [],
   "source": [
    "index_name = PINECONE_INDEX_NAME"
   ]
  },
  {
   "cell_type": "code",
   "execution_count": 19,
   "id": "a27c5816",
   "metadata": {},
   "outputs": [],
   "source": [
    "embeddings = OpenAIEmbeddings(deployment=\"text-embedding-ada-002\") #EXPENSIVE - - - USE CAREFULLY"
   ]
  },
  {
   "cell_type": "code",
   "execution_count": 20,
   "id": "1c1d7054",
   "metadata": {
    "scrolled": true
   },
   "outputs": [
    {
     "name": "stdout",
     "output_type": "stream",
     "text": [
      "Total number of Documents is: 49\n",
      "Processing document 1\n",
      "Processing document 2\n"
     ]
    },
    {
     "ename": "KeyboardInterrupt",
     "evalue": "",
     "output_type": "error",
     "traceback": [
      "\u001b[1;31m---------------------------------------------------------------------------\u001b[0m",
      "\u001b[1;31mKeyboardInterrupt\u001b[0m                         Traceback (most recent call last)",
      "\u001b[1;32mc:\\Users\\veera\\OneDrive\\Desktop\\Github\\ChatBot\\Implementation Code.ipynb Cell 20\u001b[0m line \u001b[0;36m1\n\u001b[0;32m     <a href='vscode-notebook-cell:/c%3A/Users/veera/OneDrive/Desktop/Github/ChatBot/Implementation%20Code.ipynb#Y262sZmlsZQ%3D%3D?line=11'>12</a>\u001b[0m         chunk_document \u001b[39m=\u001b[39m Document(page_content\u001b[39m=\u001b[39mchunk, metadata\u001b[39m=\u001b[39m{\u001b[39m'\u001b[39m\u001b[39mtext\u001b[39m\u001b[39m'\u001b[39m: chunk})\n\u001b[0;32m     <a href='vscode-notebook-cell:/c%3A/Users/veera/OneDrive/Desktop/Github/ChatBot/Implementation%20Code.ipynb#Y262sZmlsZQ%3D%3D?line=12'>13</a>\u001b[0m         \u001b[39m# Vectorize the chunk\u001b[39;00m\n\u001b[1;32m---> <a href='vscode-notebook-cell:/c%3A/Users/veera/OneDrive/Desktop/Github/ChatBot/Implementation%20Code.ipynb#Y262sZmlsZQ%3D%3D?line=13'>14</a>\u001b[0m         search \u001b[39m=\u001b[39m Pinecone\u001b[39m.\u001b[39;49mfrom_documents([chunk_document], embeddings, index_name\u001b[39m=\u001b[39;49mindex_name)\n\u001b[0;32m     <a href='vscode-notebook-cell:/c%3A/Users/veera/OneDrive/Desktop/Github/ChatBot/Implementation%20Code.ipynb#Y262sZmlsZQ%3D%3D?line=15'>16</a>\u001b[0m \u001b[39mexcept\u001b[39;00m \u001b[39mException\u001b[39;00m \u001b[39mas\u001b[39;00m e:\n\u001b[0;32m     <a href='vscode-notebook-cell:/c%3A/Users/veera/OneDrive/Desktop/Github/ChatBot/Implementation%20Code.ipynb#Y262sZmlsZQ%3D%3D?line=16'>17</a>\u001b[0m     \u001b[39mprint\u001b[39m(\u001b[39mf\u001b[39m\u001b[39m\"\u001b[39m\u001b[39mError processing document \u001b[39m\u001b[39m{\u001b[39;00mi\u001b[39m \u001b[39m\u001b[39m+\u001b[39m\u001b[39m \u001b[39m\u001b[39m1\u001b[39m\u001b[39m}\u001b[39;00m\u001b[39m: \u001b[39m\u001b[39m{\u001b[39;00me\u001b[39m}\u001b[39;00m\u001b[39m\"\u001b[39m)\n",
      "File \u001b[1;32mc:\\Users\\veera\\anaconda3\\envs\\DEV\\Lib\\site-packages\\langchain\\schema\\vectorstore.py:438\u001b[0m, in \u001b[0;36mVectorStore.from_documents\u001b[1;34m(cls, documents, embedding, **kwargs)\u001b[0m\n\u001b[0;32m    436\u001b[0m texts \u001b[39m=\u001b[39m [d\u001b[39m.\u001b[39mpage_content \u001b[39mfor\u001b[39;00m d \u001b[39min\u001b[39;00m documents]\n\u001b[0;32m    437\u001b[0m metadatas \u001b[39m=\u001b[39m [d\u001b[39m.\u001b[39mmetadata \u001b[39mfor\u001b[39;00m d \u001b[39min\u001b[39;00m documents]\n\u001b[1;32m--> 438\u001b[0m \u001b[39mreturn\u001b[39;00m \u001b[39mcls\u001b[39;49m\u001b[39m.\u001b[39;49mfrom_texts(texts, embedding, metadatas\u001b[39m=\u001b[39;49mmetadatas, \u001b[39m*\u001b[39;49m\u001b[39m*\u001b[39;49mkwargs)\n",
      "File \u001b[1;32mc:\\Users\\veera\\anaconda3\\envs\\DEV\\Lib\\site-packages\\langchain\\vectorstores\\pinecone.py:416\u001b[0m, in \u001b[0;36mPinecone.from_texts\u001b[1;34m(cls, texts, embedding, metadatas, ids, batch_size, text_key, namespace, index_name, upsert_kwargs, pool_threads, embeddings_chunk_size, **kwargs)\u001b[0m\n\u001b[0;32m    413\u001b[0m pinecone_index \u001b[39m=\u001b[39m \u001b[39mcls\u001b[39m\u001b[39m.\u001b[39mget_pinecone_index(index_name, pool_threads)\n\u001b[0;32m    414\u001b[0m pinecone \u001b[39m=\u001b[39m \u001b[39mcls\u001b[39m(pinecone_index, embedding, text_key, namespace, \u001b[39m*\u001b[39m\u001b[39m*\u001b[39mkwargs)\n\u001b[1;32m--> 416\u001b[0m pinecone\u001b[39m.\u001b[39;49madd_texts(\n\u001b[0;32m    417\u001b[0m     texts,\n\u001b[0;32m    418\u001b[0m     metadatas\u001b[39m=\u001b[39;49mmetadatas,\n\u001b[0;32m    419\u001b[0m     ids\u001b[39m=\u001b[39;49mids,\n\u001b[0;32m    420\u001b[0m     namespace\u001b[39m=\u001b[39;49mnamespace,\n\u001b[0;32m    421\u001b[0m     batch_size\u001b[39m=\u001b[39;49mbatch_size,\n\u001b[0;32m    422\u001b[0m     embedding_chunk_size\u001b[39m=\u001b[39;49membeddings_chunk_size,\n\u001b[0;32m    423\u001b[0m     \u001b[39m*\u001b[39;49m\u001b[39m*\u001b[39;49m(upsert_kwargs \u001b[39mor\u001b[39;49;00m {}),\n\u001b[0;32m    424\u001b[0m )\n\u001b[0;32m    425\u001b[0m \u001b[39mreturn\u001b[39;00m pinecone\n",
      "File \u001b[1;32mc:\\Users\\veera\\anaconda3\\envs\\DEV\\Lib\\site-packages\\langchain\\vectorstores\\pinecone.py:149\u001b[0m, in \u001b[0;36mPinecone.add_texts\u001b[1;34m(self, texts, metadatas, ids, namespace, batch_size, embedding_chunk_size, **kwargs)\u001b[0m\n\u001b[0;32m    137\u001b[0m     embeddings \u001b[39m=\u001b[39m \u001b[39mself\u001b[39m\u001b[39m.\u001b[39m_embed_documents(chunk_texts)\n\u001b[0;32m    138\u001b[0m     async_res \u001b[39m=\u001b[39m [\n\u001b[0;32m    139\u001b[0m         \u001b[39mself\u001b[39m\u001b[39m.\u001b[39m_index\u001b[39m.\u001b[39mupsert(\n\u001b[0;32m    140\u001b[0m             vectors\u001b[39m=\u001b[39mbatch,\n\u001b[1;32m   (...)\u001b[0m\n\u001b[0;32m    147\u001b[0m         )\n\u001b[0;32m    148\u001b[0m     ]\n\u001b[1;32m--> 149\u001b[0m     [res\u001b[39m.\u001b[39;49mget() \u001b[39mfor\u001b[39;49;00m res \u001b[39min\u001b[39;49;00m async_res]\n\u001b[0;32m    151\u001b[0m \u001b[39mreturn\u001b[39;00m ids\n",
      "File \u001b[1;32mc:\\Users\\veera\\anaconda3\\envs\\DEV\\Lib\\site-packages\\langchain\\vectorstores\\pinecone.py:149\u001b[0m, in \u001b[0;36m<listcomp>\u001b[1;34m(.0)\u001b[0m\n\u001b[0;32m    137\u001b[0m     embeddings \u001b[39m=\u001b[39m \u001b[39mself\u001b[39m\u001b[39m.\u001b[39m_embed_documents(chunk_texts)\n\u001b[0;32m    138\u001b[0m     async_res \u001b[39m=\u001b[39m [\n\u001b[0;32m    139\u001b[0m         \u001b[39mself\u001b[39m\u001b[39m.\u001b[39m_index\u001b[39m.\u001b[39mupsert(\n\u001b[0;32m    140\u001b[0m             vectors\u001b[39m=\u001b[39mbatch,\n\u001b[1;32m   (...)\u001b[0m\n\u001b[0;32m    147\u001b[0m         )\n\u001b[0;32m    148\u001b[0m     ]\n\u001b[1;32m--> 149\u001b[0m     [res\u001b[39m.\u001b[39;49mget() \u001b[39mfor\u001b[39;00m res \u001b[39min\u001b[39;00m async_res]\n\u001b[0;32m    151\u001b[0m \u001b[39mreturn\u001b[39;00m ids\n",
      "File \u001b[1;32mc:\\Users\\veera\\anaconda3\\envs\\DEV\\Lib\\multiprocessing\\pool.py:768\u001b[0m, in \u001b[0;36mApplyResult.get\u001b[1;34m(self, timeout)\u001b[0m\n\u001b[0;32m    767\u001b[0m \u001b[39mdef\u001b[39;00m \u001b[39mget\u001b[39m(\u001b[39mself\u001b[39m, timeout\u001b[39m=\u001b[39m\u001b[39mNone\u001b[39;00m):\n\u001b[1;32m--> 768\u001b[0m     \u001b[39mself\u001b[39;49m\u001b[39m.\u001b[39;49mwait(timeout)\n\u001b[0;32m    769\u001b[0m     \u001b[39mif\u001b[39;00m \u001b[39mnot\u001b[39;00m \u001b[39mself\u001b[39m\u001b[39m.\u001b[39mready():\n\u001b[0;32m    770\u001b[0m         \u001b[39mraise\u001b[39;00m \u001b[39mTimeoutError\u001b[39;00m\n",
      "File \u001b[1;32mc:\\Users\\veera\\anaconda3\\envs\\DEV\\Lib\\multiprocessing\\pool.py:765\u001b[0m, in \u001b[0;36mApplyResult.wait\u001b[1;34m(self, timeout)\u001b[0m\n\u001b[0;32m    764\u001b[0m \u001b[39mdef\u001b[39;00m \u001b[39mwait\u001b[39m(\u001b[39mself\u001b[39m, timeout\u001b[39m=\u001b[39m\u001b[39mNone\u001b[39;00m):\n\u001b[1;32m--> 765\u001b[0m     \u001b[39mself\u001b[39;49m\u001b[39m.\u001b[39;49m_event\u001b[39m.\u001b[39;49mwait(timeout)\n",
      "File \u001b[1;32mc:\\Users\\veera\\anaconda3\\envs\\DEV\\Lib\\threading.py:622\u001b[0m, in \u001b[0;36mEvent.wait\u001b[1;34m(self, timeout)\u001b[0m\n\u001b[0;32m    620\u001b[0m signaled \u001b[39m=\u001b[39m \u001b[39mself\u001b[39m\u001b[39m.\u001b[39m_flag\n\u001b[0;32m    621\u001b[0m \u001b[39mif\u001b[39;00m \u001b[39mnot\u001b[39;00m signaled:\n\u001b[1;32m--> 622\u001b[0m     signaled \u001b[39m=\u001b[39m \u001b[39mself\u001b[39;49m\u001b[39m.\u001b[39;49m_cond\u001b[39m.\u001b[39;49mwait(timeout)\n\u001b[0;32m    623\u001b[0m \u001b[39mreturn\u001b[39;00m signaled\n",
      "File \u001b[1;32mc:\\Users\\veera\\anaconda3\\envs\\DEV\\Lib\\threading.py:320\u001b[0m, in \u001b[0;36mCondition.wait\u001b[1;34m(self, timeout)\u001b[0m\n\u001b[0;32m    318\u001b[0m \u001b[39mtry\u001b[39;00m:    \u001b[39m# restore state no matter what (e.g., KeyboardInterrupt)\u001b[39;00m\n\u001b[0;32m    319\u001b[0m     \u001b[39mif\u001b[39;00m timeout \u001b[39mis\u001b[39;00m \u001b[39mNone\u001b[39;00m:\n\u001b[1;32m--> 320\u001b[0m         waiter\u001b[39m.\u001b[39;49macquire()\n\u001b[0;32m    321\u001b[0m         gotit \u001b[39m=\u001b[39m \u001b[39mTrue\u001b[39;00m\n\u001b[0;32m    322\u001b[0m     \u001b[39melse\u001b[39;00m:\n",
      "\u001b[1;31mKeyboardInterrupt\u001b[0m: "
     ]
    }
   ],
   "source": [
    "print(f\"Total number of Documents is: {len(documents_list)}\")\n",
    "\n",
    "for i in range(len(documents_list)):\n",
    "    try:\n",
    "        document = documents_list[i]\n",
    "        print(f\"Processing document {i + 1}\")\n",
    "\n",
    "        # Split the document into chunks\n",
    "        chunks = split_into_chunks(document.page_content)\n",
    "\n",
    "        for chunk in chunks:\n",
    "            chunk_document = Document(page_content=chunk, metadata={'text': chunk})\n",
    "            # Vectorize the chunk\n",
    "            search = Pinecone.from_documents([chunk_document], embeddings, index_name=index_name)\n",
    "\n",
    "    except Exception as e:\n",
    "        print(f\"Error processing document {i + 1}: {e}\")"
   ]
  },
  {
   "cell_type": "code",
   "execution_count": null,
   "id": "7b168bfa",
   "metadata": {
    "scrolled": true
   },
   "outputs": [
    {
     "data": {
      "text/plain": [
       "[Document(page_content=\"'question000001': 'Professor , I am having a doubt that we can take subject online in summer and go out USA(India) and complete the course ? Thanks, ', 'response000002': 'Hi, Did you not get the email from ISS? It explains the situation. Han , PhD Professor and Graduate Coordinator, MS BAIS College of Business, University of South Florida'\"),\n",
       " Document(page_content=\"'question000001': 'Hi Greetings of the day, I am USF ID: Term of Entry: Fall 2023 I had got an admit letter for is Business Analytics and Information systems in USF for Fall 2023, but in the admit letter which is attached below, it is mentioned that, you are provisionally admitted since we are missing some documents i.e 1. Final Official Transcripts, 2. Awarded. Actually i uploaded all my transcripts and Provisional Certificate at the time of the admission application itself, Here in attachments i am attaching the screenshot of the same, I uploaded my visa and financial documents in the istart portal for getting my i20, Is there any problem for getting i20 as it mentioned provisionally admitted. If so what shall i do for smooth processing in getting i20? Please do address my issue as soon as possible, I am eagerly waiting for my i20 to start my visa process. Thanks and ', 'response000002': '!Screenshot20230411210839.jpgthumbnail! (309 kB)'\"),\n",
       " Document(page_content=\"'question000001': 'Hi Greetings of the day, I am USF ID: Term of Entry: Fall 2023 I had got an admit letter for is Business Analytics and Information systems in USF for Fall 2023, but in the admit letter which is attached below, it is mentioned that, you are provisionally admitted since we are missing some documents i.e 1. Final Official Transcripts, 2. Awarded. Actually i uploaded all my transcripts and Provisional Certificate at the time of the admission application itself, Here in attachments i am attaching the screenshot of the same, I uploaded my visa and financial documents in the istart portal for getting my i20, Is there any problem for getting i20 as it mentioned provisionally admitted. If so what shall i do for smooth processing in getting i20? Please do address my issue as soon as possible, I am eagerly waiting for my i20 to start my visa process. Thanks and ', 'response000002': '(309 kB) !Screenshot20230411210839.jpgthumbnail!', 'question000003': 'Thank you for reaching out. You will be able to bring your official documents, when you arrive to campus. Your provisional admit will not impede your VISA and/or your course registration. Please let me know if you have any other questions. Best, '\"),\n",
       " Document(page_content=\"'question000001': 'Hi Team My usf email is - I am with USF ID: Term of Entry: 2023 Graduate Degree: Master of Science Graduate Major: Business Analytics and Information Systems I have received the admit for BAIS program -2023, and I require the official admit letter (electronic version) for the purpose of securing education loan to fund my masters. And also if I can get I-20 estimate for 2023-2024 as on website the pdf available is of 2022-2023. Please help me get it as soon as possible. to hear from you. Thanks, Chaudhary', 'response000002': 'I haven't received it yet. Any updates on this? Please let me know. Thanks & Regards Sanchit. ', 'question000003': 'Please find the official letter attached. Thanks, ', 'response000004': 'Hi , I can't open the attached pdf.It's (link) is just not opening up, I am getting an error message which I attached as screenshot. Can you please send it as attachment, I urgently need it to complete my loan application. Thanks and regards, Sanchit !! ', 'question000005': 'Did you request a Jira account? You will need to create one, in order to view documents. Best, '\")]"
      ]
     },
     "execution_count": 44,
     "metadata": {},
     "output_type": "execute_result"
    }
   ],
   "source": [
    "# Do a simple vector similarity search\n",
    "query = \"I am having a doubt\"\n",
    "\n",
    "result = search.similarity_search(query)\n",
    "result"
   ]
  },
  {
   "cell_type": "code",
   "execution_count": null,
   "id": "8f95315b",
   "metadata": {},
   "outputs": [],
   "source": [
    "from langchain.vectorstores import Pinecone\n",
    "\n",
    "text_field = \"text\"  # the metadata field that contains our text\n",
    "\n",
    "# initialize the vector store object\n",
    "vectorstore = Pinecone(\n",
    "    index, embed_model.embed_query, text_field\n",
    ")"
   ]
  },
  {
   "cell_type": "code",
   "execution_count": null,
   "id": "b3e542eb",
   "metadata": {},
   "outputs": [],
   "source": [
    "scrapped_pages_dir = \"./Data/Scrapped Pages\""
   ]
  },
  {
   "cell_type": "code",
   "execution_count": null,
   "id": "2c9077f6",
   "metadata": {},
   "outputs": [],
   "source": [
    "# Traverse the directory and get all .txt files\n",
    "txt_files = [f for f in os.listdir(scrapped_pages_dir) if f.endswith('.txt')]"
   ]
  },
  {
   "cell_type": "code",
   "execution_count": null,
   "id": "6b1961b4",
   "metadata": {},
   "outputs": [],
   "source": [
    "# Read the contents of each file and store in a list\n",
    "documents_list = []\n",
    "for file in txt_files:\n",
    "    with open(os.path.join(scrapped_pages_dir, file), 'r', encoding='utf-8') as f:\n",
    "        content = f.read()\n",
    "        documents_list.append(Document(page_content=content, metadata={'text': content}))"
   ]
  },
  {
   "cell_type": "code",
   "execution_count": null,
   "id": "282edbfc",
   "metadata": {
    "scrolled": true
   },
   "outputs": [
    {
     "name": "stdout",
     "output_type": "stream",
     "text": [
      "Total number of Documents is: 91\n",
      "Processing document 1\n",
      "Processing document 2\n",
      "Processing document 3\n",
      "Processing document 4\n",
      "Processing document 5\n",
      "Processing document 6\n",
      "Processing document 7\n",
      "Processing document 8\n",
      "Processing document 9\n",
      "Processing document 10\n",
      "Processing document 11\n",
      "Processing document 12\n",
      "Processing document 13\n",
      "Processing document 14\n",
      "Processing document 15\n",
      "Processing document 16\n",
      "Processing document 17\n",
      "Processing document 18\n",
      "Processing document 19\n",
      "Processing document 20\n",
      "Processing document 21\n",
      "Processing document 22\n",
      "Processing document 23\n",
      "Processing document 24\n",
      "Processing document 25\n",
      "Processing document 26\n",
      "Processing document 27\n",
      "Processing document 28\n",
      "Processing document 29\n",
      "Processing document 30\n",
      "Processing document 31\n",
      "Processing document 32\n",
      "Processing document 33\n",
      "Processing document 34\n",
      "Processing document 35\n",
      "Processing document 36\n",
      "Processing document 37\n",
      "Processing document 38\n",
      "Processing document 39\n",
      "Processing document 40\n",
      "Processing document 41\n",
      "Processing document 42\n",
      "Processing document 43\n",
      "Processing document 44\n",
      "Processing document 45\n",
      "Processing document 46\n",
      "Processing document 47\n",
      "Processing document 48\n",
      "Processing document 49\n",
      "Processing document 50\n",
      "Processing document 51\n",
      "Processing document 52\n",
      "Processing document 53\n",
      "Processing document 54\n",
      "Processing document 55\n",
      "Processing document 56\n",
      "Processing document 57\n",
      "Processing document 58\n",
      "Processing document 59\n",
      "Processing document 60\n",
      "Processing document 61\n",
      "Processing document 62\n",
      "Processing document 63\n",
      "Processing document 64\n",
      "Processing document 65\n",
      "Processing document 66\n",
      "Processing document 67\n",
      "Processing document 68\n",
      "Processing document 69\n",
      "Processing document 70\n",
      "Processing document 71\n",
      "Processing document 72\n",
      "Processing document 73\n",
      "Processing document 74\n",
      "Processing document 75\n",
      "Processing document 76\n",
      "Processing document 77\n",
      "Processing document 78\n",
      "Processing document 79\n",
      "Processing document 80\n",
      "Processing document 81\n",
      "Processing document 82\n",
      "Processing document 83\n",
      "Processing document 84\n",
      "Processing document 85\n",
      "Processing document 86\n",
      "Processing document 87\n",
      "Processing document 88\n",
      "Processing document 89\n",
      "Processing document 90\n",
      "Processing document 91\n"
     ]
    }
   ],
   "source": [
    "print(f\"Total number of Documents is: {len(documents_list)}\")\n",
    "\n",
    "for i in range(len(documents_list)):\n",
    "    try:\n",
    "        document = documents_list[i]\n",
    "        print(f\"Processing document {i + 1}\")\n",
    "\n",
    "        # Split the document into chunks\n",
    "        chunks = split_into_chunks(document.page_content)\n",
    "\n",
    "        for chunk in chunks:\n",
    "            chunk_document = Document(page_content=chunk, metadata={'text': chunk})\n",
    "            # Vectorize the chunk\n",
    "            search = Pinecone.from_documents([chunk_document], embeddings, index_name=index_name)\n",
    "\n",
    "    except Exception as e:\n",
    "        print(f\"Error processing document {i + 1}: {e}\")"
   ]
  },
  {
   "cell_type": "code",
   "execution_count": null,
   "id": "0a7f703b",
   "metadata": {
    "scrolled": true
   },
   "outputs": [
    {
     "data": {
      "text/plain": [
       "[Document(page_content='JONI JONES Campus Dean - Muma College of Business, Sarasota-Manatee Associate Professor jonijones@usf.edu Room: C216 Phone: 941-359-4234 Fax: (941) 359-4489 Vita Joni Jones is an associate professor in the School of Information Systems and Management. She also serves as campus dean for the Muma College of Business on the Sarasota-Manatee campus. She teaches graduate and undergraduate courses in systems analysis and design, business honors professional development and research methods. She previously taught introductory courses in computing as well as courses in C#, managerial statistics, business system application and design and software applications. Her research interests include electronic commerce, variable pricing mechanisms such as information and prediction markets and social network use in organizations. Her research has been published in the MIS Quarterly, Production and Operations Management, the Journal of E-Commerce, the INFORMS Journal on Computing, Decision Support Systems and presented at national and international conferences. She joined USF in 2003, having previously taught at the University of Michigan, the University of Florida and Santa Fe Community College. Her professional service includes roles as a reviewer for numerous academic journals. She is a member of Beta Gamma Sigma. Jones earned a PhD from the University of Florida and a bachelor\\'s degree in business administration from the University of Illinois, Chicago. TEACHING ISM 3113 - Systems Analysis & Design (Undergraduate) ISM 6123 – Systems Analysis & Design (Graduate) GEB 2935 – Professional Development I and II (Business Honors) QMB 3210 – Computational Methods in Business (Business Honors) RECENT RESEARCH Gill, T.G. & Jones, J., (2016), \"Multi-factor Authentication at Jagged Peak,\" Muma Case Review, 1(4). 1-16. Alhayyan, K. , Collins, R., Jones, J., Berndt, D., (2011), \"Economic Culture and Prediction Markets,\" Journal of Systemics, Cybernetics and Informatics (JSCI), Vol. 9 – No. 6, pp. 69-74. Jones, J.L., Collins, R.W., and Berndt, D.J., (2009), \"Information Markets: A Research Landscape,\" Communications of the Association for Information Systems Vol. 25(1): pp289–305, Gill, T.G. and Jones, J.L., (2010), \"A Tale of Three Classes: Case Studies in Course Complexity,\" Journal of IT Education Volume 9, pages 1-29.'),\n",
       " Document(page_content=\"LEADERSHIP TEAM GERT-JAN DE VREEDE GJ de Vreede is the interim dean for the Muma College of Business and a professor in the School of Information Systems and Management. He has taught undergraduate, graduate, doctoral and executive courses in areas such as agile software development, systems analysis and design, teamwork/facilitation and research methods. He has been recognized by Stanford University as a top 2% researcher worldwide. He has previously served as associate dean for research and professional programs, interim dean at the university's Sarasota-Manatee campus, and associate chair for his department. View Bio Page GARY PATTERSON Gary Patterson has been appointed as dean of the Kate Tiedemann School of Business and Finance and Muma St. Petersburg campus dean effective immediately. Patterson began work at USF in 2000 as an assistant professor on the St. Petersburg campus. View Bio Page JONI JONES Joni Jones was selected to serve as the campus dean for the Muma College of Business in Sarasota-Manatee. Jones is an associate professor in the School of Information Systems and Management who teaches graduate and undergraduate courses in systems analysis and design, business honors professional development, and research methods. View Bio Page TIMOTHY B. HEATH Timothy B. Heath is interim dean for research and professional programs in the Muma College of Business, while serving as professor and Muma Fellow in the School of Marketing and Innovation. His research investigates issues in branding, persuasion, and innovation. View Bio Page JENNIFER CAINAS Jennifer Cainas was promoted to associate dean for financial management and undergraduate programs. Cainas is the Lynn Pippenger Teaching Fellow in the Lynn Pippenger School of Accountancy. She has received numerous teaching awards, including the Outstanding Undergraduate Teaching Award at USF. View Bio Page JEAN D. KABONGO Jean D. Kabongo serves as associate dean for academic affairs and accreditation and as chief diversity officer. Kabongo has been the campus dean for the Muma College of Business in Sarasota-Manatee since July 2020. He is a professor of strategic management and entrepreneurship in the School of Marketing and Innovation and students have chosen Kabongo to receive the campus’ Outstanding Professor Award four times since 2015. View Bio Page CIHAN COBANOGLU Cihan Cobanoglu is the dean of the School of Hospitality and Tourism Management. The school became part of the Muma College of Business in 2020. Cobanoglu is responsible for providing leadership to the faculty, students and industry constituents. He is also serving as the Director of International Partnerships for the Muma College of Business. View Bio Page RANDY DUMM A Fulbright Scholar in Austria in 2004, Dumm also has served as a visiting professor at universities in Austria and Germany. His research interests include catastrophic risk, insurer capital structure, insurer distribution channels, demand for insurance and insurance product performance. View Bio Page KAUSHIK DUTTA Kaushik Dutta has nearly 20 years of professional and research experience in the field of enterprise information technology infrastructure, data analytics and big data systems. He is the director of the School of Information Systems and Management. View Bio Page DOUG HUGHES Doug Hughes is a professor of marketing and director of the School of Marketing & Innovation. He began his full-time duties in 2019, coming from the Michigan State University's Broad College of Business. He leads a school that includes programs in marketing, supply chain management, sport and entertainment management, sales, entrepreneurship and global business. View Bio Page MARK TAYLOR Mark Taylor is the director in the Lynn Pippenger School of Accountancy and he is also the Dan and Tina Johnson Distinguished Professor of Accountancy. He joined USF in 2019. View Bio Page\"),\n",
       " Document(page_content=\"LEADERSHIP TEAM GERT-JAN DE VREEDE GJ de Vreede is the interim dean for the Muma College of Business and a professor in the School of Information Systems and Management. He has taught undergraduate, graduate, doctoral and executive courses in areas such as agile software development, systems analysis and design, teamwork/facilitation and research methods. He has been recognized by Stanford University as a top 2% researcher worldwide. He has previously served as associate dean for research and professional programs, interim dean at the university's Sarasota-Manatee campus, and associate chair for his department. View Bio Page GARY PATTERSON Gary Patterson has been appointed as dean of the Kate Tiedemann School of Business and Finance and Muma St. Petersburg campus dean effective immediately. Patterson began work at USF in 2000 as an assistant professor on the St. Petersburg campus. View Bio Page JONI JONES Joni Jones was selected to serve as the campus dean for the Muma College of Business in Sarasota-Manatee. Jones is an associate professor in the School of Information Systems and Management who teaches graduate and undergraduate courses in systems analysis and design, business honors professional development, and research methods. View Bio Page TIMOTHY B. HEATH Timothy B. Heath is interim dean for research and professional programs in the Muma College of Business, while serving as professor and Muma Fellow in the School of Marketing and Innovation. His research investigates issues in branding, persuasion, and innovation. View Bio Page JENNIFER CAINAS Jennifer Cainas was promoted to associate dean for financial management and undergraduate programs. Cainas is the Lynn Pippenger Teaching Fellow in the Lynn Pippenger School of Accountancy. She has received numerous teaching awards, including the Outstanding Undergraduate Teaching Award at USF. View Bio Page JEAN D. KABONGO Jean D. Kabongo serves as associate dean for academic affairs and accreditation and as chief diversity officer. Kabongo has been the campus dean for the Muma College of Business in Sarasota-Manatee since July 2020. He is a professor of strategic management and entrepreneurship in the School of Marketing and Innovation and students have chosen Kabongo to receive the campus’ Outstanding Professor Award four times since 2015. View Bio Page CIHAN COBANOGLU Cihan Cobanoglu is the dean of the School of Hospitality and Tourism Management. The school became part of the Muma College of Business in 2020. Cobanoglu is responsible for providing leadership to the faculty, students and industry constituents. He is also serving as the Director of International Partnerships for the Muma College of Business. View Bio Page RANDY DUMM A Fulbright Scholar in Austria in 2004, Dumm also has served as a visiting professor at universities in Austria and Germany. His research interests include catastrophic risk, insurer capital structure, insurer distribution channels, demand for insurance and insurance product performance. View Bio Page KAUSHIK DUTTA Kaushik Dutta has nearly 20 years of professional and research experience in the field of enterprise information technology infrastructure, data analytics and big data systems. He is the director of the School of Information Systems and Management. View Bio Page DOUG HUGHES Doug Hughes is a professor of marketing and director of the School of Marketing & Innovation. He began his full-time duties in 2019, coming from the Michigan State University's Broad College of Business. He leads a school that includes programs in marketing, supply chain management, sport and entertainment management, sales, entrepreneurship and global business. View Bio Page MARK TAYLOR Mark Taylor is the director in the Lynn Pippenger School of Accountancy and he is also the Dan and Tina Johnson Distinguished Professor of Accountancy. He joined USF in 2019. View Bio Page\")]"
      ]
     },
     "execution_count": 53,
     "metadata": {},
     "output_type": "execute_result"
    }
   ],
   "source": [
    "# initialize the vector store object\n",
    "vectorstore = Pinecone(\n",
    "    index, embed_model.embed_query, text_field\n",
    ")\n",
    "\n",
    "query = \"Michelle Jahn\"\n",
    "vectorstore.similarity_search(query, k=3)"
   ]
  },
  {
   "cell_type": "code",
   "execution_count": null,
   "id": "7173d006",
   "metadata": {},
   "outputs": [],
   "source": [
    "text_folder_path = \"./Data/Syllabus 2023-selected/Text\"\n",
    "\n",
    "txt_files = [f for f in os.listdir(text_folder_path) if f.endswith('.txt')]\n",
    "\n",
    "# Read the contents of each file and store in a list\n",
    "documents_list = []\n",
    "for file in txt_files:\n",
    "    with open(os.path.join(text_folder_path, file), 'r', encoding='utf-8') as f:\n",
    "        content = f.read()\n",
    "        documents_list.append(Document(page_content=content, metadata={'text': content}))"
   ]
  },
  {
   "cell_type": "code",
   "execution_count": null,
   "id": "c95debd0",
   "metadata": {
    "scrolled": true
   },
   "outputs": [
    {
     "name": "stdout",
     "output_type": "stream",
     "text": [
      "Total number of Documents is: 282\n",
      "Processing document 1\n",
      "Processing document 2\n",
      "Processing document 3\n",
      "Processing document 4\n",
      "Processing document 5\n",
      "Processing document 6\n"
     ]
    },
    {
     "ename": "KeyboardInterrupt",
     "evalue": "",
     "output_type": "error",
     "traceback": [
      "\u001b[1;31m---------------------------------------------------------------------------\u001b[0m",
      "\u001b[1;31mKeyboardInterrupt\u001b[0m                         Traceback (most recent call last)",
      "Input \u001b[1;32mIn [56]\u001b[0m, in \u001b[0;36m<cell line: 3>\u001b[1;34m()\u001b[0m\n\u001b[0;32m     12\u001b[0m         chunk_document \u001b[38;5;241m=\u001b[39m Document(page_content\u001b[38;5;241m=\u001b[39mchunk, metadata\u001b[38;5;241m=\u001b[39m{\u001b[38;5;124m'\u001b[39m\u001b[38;5;124mtext\u001b[39m\u001b[38;5;124m'\u001b[39m: chunk})\n\u001b[0;32m     13\u001b[0m         \u001b[38;5;66;03m# Vectorize the chunk. Assuming embeddings and index_name are defined elsewhere.\u001b[39;00m\n\u001b[1;32m---> 14\u001b[0m         search \u001b[38;5;241m=\u001b[39m \u001b[43mPinecone\u001b[49m\u001b[38;5;241;43m.\u001b[39;49m\u001b[43mfrom_documents\u001b[49m\u001b[43m(\u001b[49m\u001b[43m[\u001b[49m\u001b[43mchunk_document\u001b[49m\u001b[43m]\u001b[49m\u001b[43m,\u001b[49m\u001b[43m \u001b[49m\u001b[43membeddings\u001b[49m\u001b[43m,\u001b[49m\u001b[43m \u001b[49m\u001b[43mindex_name\u001b[49m\u001b[38;5;241;43m=\u001b[39;49m\u001b[43mindex_name\u001b[49m\u001b[43m)\u001b[49m\n\u001b[0;32m     16\u001b[0m \u001b[38;5;28;01mexcept\u001b[39;00m \u001b[38;5;167;01mException\u001b[39;00m \u001b[38;5;28;01mas\u001b[39;00m e:\n\u001b[0;32m     17\u001b[0m     \u001b[38;5;28mprint\u001b[39m(\u001b[38;5;124mf\u001b[39m\u001b[38;5;124m\"\u001b[39m\u001b[38;5;124mError processing document \u001b[39m\u001b[38;5;132;01m{\u001b[39;00mi \u001b[38;5;241m+\u001b[39m \u001b[38;5;241m1\u001b[39m\u001b[38;5;132;01m}\u001b[39;00m\u001b[38;5;124m: \u001b[39m\u001b[38;5;132;01m{\u001b[39;00me\u001b[38;5;132;01m}\u001b[39;00m\u001b[38;5;124m\"\u001b[39m)\n",
      "File \u001b[1;32m~\\anaconda3\\lib\\site-packages\\langchain\\schema\\vectorstore.py:438\u001b[0m, in \u001b[0;36mVectorStore.from_documents\u001b[1;34m(cls, documents, embedding, **kwargs)\u001b[0m\n\u001b[0;32m    436\u001b[0m texts \u001b[38;5;241m=\u001b[39m [d\u001b[38;5;241m.\u001b[39mpage_content \u001b[38;5;28;01mfor\u001b[39;00m d \u001b[38;5;129;01min\u001b[39;00m documents]\n\u001b[0;32m    437\u001b[0m metadatas \u001b[38;5;241m=\u001b[39m [d\u001b[38;5;241m.\u001b[39mmetadata \u001b[38;5;28;01mfor\u001b[39;00m d \u001b[38;5;129;01min\u001b[39;00m documents]\n\u001b[1;32m--> 438\u001b[0m \u001b[38;5;28;01mreturn\u001b[39;00m \u001b[38;5;28mcls\u001b[39m\u001b[38;5;241m.\u001b[39mfrom_texts(texts, embedding, metadatas\u001b[38;5;241m=\u001b[39mmetadatas, \u001b[38;5;241m*\u001b[39m\u001b[38;5;241m*\u001b[39mkwargs)\n",
      "File \u001b[1;32m~\\anaconda3\\lib\\site-packages\\langchain\\vectorstores\\pinecone.py:416\u001b[0m, in \u001b[0;36mPinecone.from_texts\u001b[1;34m(cls, texts, embedding, metadatas, ids, batch_size, text_key, namespace, index_name, upsert_kwargs, pool_threads, embeddings_chunk_size, **kwargs)\u001b[0m\n\u001b[0;32m    413\u001b[0m pinecone_index \u001b[38;5;241m=\u001b[39m \u001b[38;5;28mcls\u001b[39m\u001b[38;5;241m.\u001b[39mget_pinecone_index(index_name, pool_threads)\n\u001b[0;32m    414\u001b[0m pinecone \u001b[38;5;241m=\u001b[39m \u001b[38;5;28mcls\u001b[39m(pinecone_index, embedding, text_key, namespace, \u001b[38;5;241m*\u001b[39m\u001b[38;5;241m*\u001b[39mkwargs)\n\u001b[1;32m--> 416\u001b[0m pinecone\u001b[38;5;241m.\u001b[39madd_texts(\n\u001b[0;32m    417\u001b[0m     texts,\n\u001b[0;32m    418\u001b[0m     metadatas\u001b[38;5;241m=\u001b[39mmetadatas,\n\u001b[0;32m    419\u001b[0m     ids\u001b[38;5;241m=\u001b[39mids,\n\u001b[0;32m    420\u001b[0m     namespace\u001b[38;5;241m=\u001b[39mnamespace,\n\u001b[0;32m    421\u001b[0m     batch_size\u001b[38;5;241m=\u001b[39mbatch_size,\n\u001b[0;32m    422\u001b[0m     embedding_chunk_size\u001b[38;5;241m=\u001b[39membeddings_chunk_size,\n\u001b[0;32m    423\u001b[0m     \u001b[38;5;241m*\u001b[39m\u001b[38;5;241m*\u001b[39m(upsert_kwargs \u001b[38;5;129;01mor\u001b[39;00m {}),\n\u001b[0;32m    424\u001b[0m )\n\u001b[0;32m    425\u001b[0m \u001b[38;5;28;01mreturn\u001b[39;00m pinecone\n",
      "File \u001b[1;32m~\\anaconda3\\lib\\site-packages\\langchain\\vectorstores\\pinecone.py:149\u001b[0m, in \u001b[0;36mPinecone.add_texts\u001b[1;34m(self, texts, metadatas, ids, namespace, batch_size, embedding_chunk_size, **kwargs)\u001b[0m\n\u001b[0;32m    137\u001b[0m     embeddings \u001b[38;5;241m=\u001b[39m \u001b[38;5;28mself\u001b[39m\u001b[38;5;241m.\u001b[39m_embed_documents(chunk_texts)\n\u001b[0;32m    138\u001b[0m     async_res \u001b[38;5;241m=\u001b[39m [\n\u001b[0;32m    139\u001b[0m         \u001b[38;5;28mself\u001b[39m\u001b[38;5;241m.\u001b[39m_index\u001b[38;5;241m.\u001b[39mupsert(\n\u001b[0;32m    140\u001b[0m             vectors\u001b[38;5;241m=\u001b[39mbatch,\n\u001b[1;32m   (...)\u001b[0m\n\u001b[0;32m    147\u001b[0m         )\n\u001b[0;32m    148\u001b[0m     ]\n\u001b[1;32m--> 149\u001b[0m     [res\u001b[38;5;241m.\u001b[39mget() \u001b[38;5;28;01mfor\u001b[39;00m res \u001b[38;5;129;01min\u001b[39;00m async_res]\n\u001b[0;32m    151\u001b[0m \u001b[38;5;28;01mreturn\u001b[39;00m ids\n",
      "File \u001b[1;32m~\\anaconda3\\lib\\site-packages\\langchain\\vectorstores\\pinecone.py:149\u001b[0m, in \u001b[0;36m<listcomp>\u001b[1;34m(.0)\u001b[0m\n\u001b[0;32m    137\u001b[0m     embeddings \u001b[38;5;241m=\u001b[39m \u001b[38;5;28mself\u001b[39m\u001b[38;5;241m.\u001b[39m_embed_documents(chunk_texts)\n\u001b[0;32m    138\u001b[0m     async_res \u001b[38;5;241m=\u001b[39m [\n\u001b[0;32m    139\u001b[0m         \u001b[38;5;28mself\u001b[39m\u001b[38;5;241m.\u001b[39m_index\u001b[38;5;241m.\u001b[39mupsert(\n\u001b[0;32m    140\u001b[0m             vectors\u001b[38;5;241m=\u001b[39mbatch,\n\u001b[1;32m   (...)\u001b[0m\n\u001b[0;32m    147\u001b[0m         )\n\u001b[0;32m    148\u001b[0m     ]\n\u001b[1;32m--> 149\u001b[0m     [\u001b[43mres\u001b[49m\u001b[38;5;241;43m.\u001b[39;49m\u001b[43mget\u001b[49m\u001b[43m(\u001b[49m\u001b[43m)\u001b[49m \u001b[38;5;28;01mfor\u001b[39;00m res \u001b[38;5;129;01min\u001b[39;00m async_res]\n\u001b[0;32m    151\u001b[0m \u001b[38;5;28;01mreturn\u001b[39;00m ids\n",
      "File \u001b[1;32m~\\anaconda3\\lib\\multiprocessing\\pool.py:765\u001b[0m, in \u001b[0;36mApplyResult.get\u001b[1;34m(self, timeout)\u001b[0m\n\u001b[0;32m    764\u001b[0m \u001b[38;5;28;01mdef\u001b[39;00m \u001b[38;5;21mget\u001b[39m(\u001b[38;5;28mself\u001b[39m, timeout\u001b[38;5;241m=\u001b[39m\u001b[38;5;28;01mNone\u001b[39;00m):\n\u001b[1;32m--> 765\u001b[0m     \u001b[38;5;28;43mself\u001b[39;49m\u001b[38;5;241;43m.\u001b[39;49m\u001b[43mwait\u001b[49m\u001b[43m(\u001b[49m\u001b[43mtimeout\u001b[49m\u001b[43m)\u001b[49m\n\u001b[0;32m    766\u001b[0m     \u001b[38;5;28;01mif\u001b[39;00m \u001b[38;5;129;01mnot\u001b[39;00m \u001b[38;5;28mself\u001b[39m\u001b[38;5;241m.\u001b[39mready():\n\u001b[0;32m    767\u001b[0m         \u001b[38;5;28;01mraise\u001b[39;00m \u001b[38;5;167;01mTimeoutError\u001b[39;00m\n",
      "File \u001b[1;32m~\\anaconda3\\lib\\multiprocessing\\pool.py:762\u001b[0m, in \u001b[0;36mApplyResult.wait\u001b[1;34m(self, timeout)\u001b[0m\n\u001b[0;32m    761\u001b[0m \u001b[38;5;28;01mdef\u001b[39;00m \u001b[38;5;21mwait\u001b[39m(\u001b[38;5;28mself\u001b[39m, timeout\u001b[38;5;241m=\u001b[39m\u001b[38;5;28;01mNone\u001b[39;00m):\n\u001b[1;32m--> 762\u001b[0m     \u001b[38;5;28;43mself\u001b[39;49m\u001b[38;5;241;43m.\u001b[39;49m\u001b[43m_event\u001b[49m\u001b[38;5;241;43m.\u001b[39;49m\u001b[43mwait\u001b[49m\u001b[43m(\u001b[49m\u001b[43mtimeout\u001b[49m\u001b[43m)\u001b[49m\n",
      "File \u001b[1;32m~\\anaconda3\\lib\\threading.py:574\u001b[0m, in \u001b[0;36mEvent.wait\u001b[1;34m(self, timeout)\u001b[0m\n\u001b[0;32m    572\u001b[0m signaled \u001b[38;5;241m=\u001b[39m \u001b[38;5;28mself\u001b[39m\u001b[38;5;241m.\u001b[39m_flag\n\u001b[0;32m    573\u001b[0m \u001b[38;5;28;01mif\u001b[39;00m \u001b[38;5;129;01mnot\u001b[39;00m signaled:\n\u001b[1;32m--> 574\u001b[0m     signaled \u001b[38;5;241m=\u001b[39m \u001b[38;5;28;43mself\u001b[39;49m\u001b[38;5;241;43m.\u001b[39;49m\u001b[43m_cond\u001b[49m\u001b[38;5;241;43m.\u001b[39;49m\u001b[43mwait\u001b[49m\u001b[43m(\u001b[49m\u001b[43mtimeout\u001b[49m\u001b[43m)\u001b[49m\n\u001b[0;32m    575\u001b[0m \u001b[38;5;28;01mreturn\u001b[39;00m signaled\n",
      "File \u001b[1;32m~\\anaconda3\\lib\\threading.py:312\u001b[0m, in \u001b[0;36mCondition.wait\u001b[1;34m(self, timeout)\u001b[0m\n\u001b[0;32m    310\u001b[0m \u001b[38;5;28;01mtry\u001b[39;00m:    \u001b[38;5;66;03m# restore state no matter what (e.g., KeyboardInterrupt)\u001b[39;00m\n\u001b[0;32m    311\u001b[0m     \u001b[38;5;28;01mif\u001b[39;00m timeout \u001b[38;5;129;01mis\u001b[39;00m \u001b[38;5;28;01mNone\u001b[39;00m:\n\u001b[1;32m--> 312\u001b[0m         \u001b[43mwaiter\u001b[49m\u001b[38;5;241;43m.\u001b[39;49m\u001b[43macquire\u001b[49m\u001b[43m(\u001b[49m\u001b[43m)\u001b[49m\n\u001b[0;32m    313\u001b[0m         gotit \u001b[38;5;241m=\u001b[39m \u001b[38;5;28;01mTrue\u001b[39;00m\n\u001b[0;32m    314\u001b[0m     \u001b[38;5;28;01melse\u001b[39;00m:\n",
      "\u001b[1;31mKeyboardInterrupt\u001b[0m: "
     ]
    }
   ],
   "source": [
    "print(f\"Total number of Documents is: {len(documents_list)}\")\n",
    "\n",
    "for i in range(len(documents_list)):\n",
    "    try:\n",
    "        document = documents_list[i]\n",
    "        print(f\"Processing document {i + 1}\")\n",
    "\n",
    "        # Assuming split_into_chunks is a function you have defined elsewhere\n",
    "        chunks = split_into_chunks(document.page_content)\n",
    "\n",
    "        for chunk in chunks:\n",
    "            chunk_document = Document(page_content=chunk, metadata={'text': chunk})\n",
    "            # Vectorize the chunk. Assuming embeddings and index_name are defined elsewhere.\n",
    "            search = Pinecone.from_documents([chunk_document], embeddings, index_name=index_name)\n",
    "\n",
    "    except Exception as e:\n",
    "        print(f\"Error processing document {i + 1}: {e}\")"
   ]
  },
  {
   "cell_type": "code",
   "execution_count": null,
   "id": "81c21d17",
   "metadata": {
    "scrolled": true
   },
   "outputs": [
    {
     "data": {
      "text/plain": [
       "Document(page_content='COURSE SYLLABUS \n",
       "MAN3301:  Human Resource Management  \n",
       "School of In formation Sys tems and Management  \n",
       "Muma College of Business, University of South Florida \n",
       "Semester: Spring  2023 \n",
       "Class Meeting Time: from January 10  to May  5, 202 2 \n",
       "Class Meeting Location: Online  \n",
       "Instructor: Prof. Terry A. Boyd  \n",
       "Office Location: BSN 3516  \n",
       "Office Hours: 5:00 – 6:00PM T hurs days (from August  23 to December  10, 202 1) or by appointment \n",
       "Email: boyd56@usf.edu   \n",
       "I. Welcome Message\n",
       "Welcome to Human Resource Management. This co urse wi ll introduce yo u to co ncepts found  \n",
       "in the human resource literat ure that wi ll help yo u as yo u progres s in your care er. This co urse \n",
       "will help yo u to become fully acquainted with the academic co ncepts of HRM and apply them \n",
       "to day to day sit uatio ns at the workplace. Th e course wi ll be taugh t from the pers pective that \n",
       "you are or wi ll someday be a leader in an organizatio n with a grasp of the benefits of HRM.\n",
       "II. University Course Description\n",
       "Credit(s): 3\n",
       "To develop a broad exposure to new approaches, techniques, and future trends in the  \n",
       "management of personnel. A study of the major functions in personnel including job analysis, \n",
       "manpower planning, selection, performance evaluation, training, and wage and salary  \n",
       "administration.\n",
       "III. Course Prerequisite(s):  MAN 3025  with a minimum grade of C-\n",
       "IV. Course Overview/ Description\n",
       "An examinatio n of the theory and practice of human resource management, includin g \n",
       "assisting students with building skills needed to recruit, select, train, and develop people. The \n",
       "course is design to assist the student with the application of human resource skills  developed \n",
       "by presenting the course in five phases: 1) Mission/Values; (2) Producing staffing to achieve \n",
       "organizational goals; (3) Sustaining quality staff; (4) Appropriately supporting  employees; and \n",
       "(5) Societal responsibility.\n",
       " \n",
       "V. Learning Goals  \n",
       "The course is divided into quarters with each focusing on specific reading assignments and \n",
       "examinations. To be successful, students should be prepared for each week  by reading prior \n",
       "to accessing lectures  and prepare for participation  via blog assignments . Each week  will \n",
       "include  discussions that will challenge students to:  \n",
       "1. Comprehend and explain major theories, concepts, and principles of human \n",
       "resource management    \n",
       "2. Apply major theories, concepts, and principles of human resource management  \n",
       "correctly in new situations  \n",
       "3. Anal yze iss ues of human resource management  using appro priate methods  and \n",
       "4. Create and evaluate solutions based on scientific knowledge and evi dence.  \n",
       " \n",
       "VI. Course Objectives \n",
       "At the end of this course stud ents shou ld be able to: \n",
       "1. Describe the major HRM discipline areas  \n",
       "2. Understand the purpose for managing human resources  \n",
       "3. Describe the major equal employment opportunity laws specifying the groups of people \n",
       "each law protects, and explain the two primary types of sexual harassment and how to \n",
       "avoid them  \n",
       "4. Summarize the four  methods for shaping employee behavior  \n",
       "5. Discuss the difference between performance management and performance appraisals  \n",
       "6. Identify the basic issues that make up an organization’ compensation strategy  and  \n",
       "7. Identify the factors required in a good code of ethics.  \n",
       " \n",
       " \n",
       "VII. Course Topics  \n",
       "Include (but not limited to):  \n",
       "Mission/values of the organization and its relationship to HRM, staffing, employee training/development, \n",
       "compensation, and societal responsibility of the organization.  \n",
       " \n",
       " \n",
       "VIII. Textbook \n",
       "Lussier, Robert N. and Hendon, John R.  (2020) Fundamentals of Human Resource  Management  (2nd \n",
       "edition). Canada : Sage . \n",
       " \n",
       " \n",
       "IX. Reading Assignments  \n",
       " \n",
       "Parts (weeks of Course)  Chapters  Topics  \n",
       "Part One: weeks 1 -3 1, 2, and 3  HRM Environment  \n",
       "Part Two: weeks  4-6 4, 5, and 6  Staffing  \n",
       "Part Three: weeks 7-9 7, 8, and 9  Developing and Managing  \n",
       "Part Four: weeks 1 1 – 12 \n",
       "                   10 and 1 1 \n",
       " Compensation , Incentives and \n",
       "Benefits  \n",
       "Part Five: weeks 1 3 - 14 12 and 13  Workplace Safety, Health and \n",
       "Diversity  \n",
       " \n",
       " \n",
       " \n",
       " \n",
       " \n",
       " \n",
       "  \n",
       " \n",
       " \n",
       "X. Basis for Final Grade \n",
       " \n",
       "Assessment Item % of Grade \n",
       "app \n",
       " \n",
       "( Points \n",
       "Participation /Blogs  \n",
       " \n",
       " blog s)       20   100 \n",
       "Quizzes (25 points each)   30 75 \n",
       "Mid-term             20              50 \n",
       "Final Exam            30            100 \n",
       "Total 100%     325 \n",
       " \n",
       " \n",
       " \n",
       "  \n",
       "Grade  Points  Performance  \n",
       "A 292 – 325 Excellent  \n",
       "B 260 – 291 Good  \n",
       "C 227 – 259 Average  \n",
       "D 195 – 226 Poor  \n",
       "F < 195 Failure  \n",
       " \n",
       " \n",
       " \n",
       "XI. Course Assessment Types \n",
       "Participation /Blogs  (20%): Your active participation is vital to the learning process.  \n",
       "Participation will include following instructions for blog activity. You will be responsible \n",
       "for submitting your blog in a timely manner.   \n",
       " \n",
       " \n",
       "Quiz (30%): There will be 3 quizzes (25 points each) based on the classroom discussions  and \n",
       "reading  content to ensure you are aware of the main takeaways from each of the \n",
       "lectures/sessions . Quiz zes administered on Canvas.  \n",
       " \n",
       "Mid-term Exam ( 20%): The mid -term exam will be based on course content covered \n",
       "throughout the course to the date of exam. It will provide a means of assessment of where the \n",
       "student stands midway in the course. Mid-term will be administered on Canvas  \n",
       " \n",
       "Final Exam (30%): The final exam will be accumu lative based on the lectures and readings from \n",
       "the assigned text . There will be both multiple choice and true/false  questions. Exam will be \n",
       "administered on Canvas.  \n",
       " \n",
       " \n",
       "XII. Tableau Assignment   \n",
       "USF has launched a Citizen Data Science Certificate program for the undergraduate students at the \n",
       "MUMA college of business. This program is a joint program with Tableau. Please refer to th e \n",
       "Tableau presentation (Links to an external site) or the video (Links to an external site) to learn  \n",
       "more about the program.  These links can be found on the Canvas Assignment page. Note: this \n",
       "assignment will generate up to 10 extra credit for the Human Resource M anagement Course.  \n",
       " \n",
       " \n",
       " \n",
       " \n",
       "XIII. Course Policies on Grades \n",
       " \n",
       "Grades of Incomplete: \n",
       "The current university policy concerning incomp lete grades will be followed in this course. \n",
       "Incomp lete grades are given only in situations where unexpected emergencies prevent a stud ent from comp leting the course and the remaining work can be comp leted the nex t \n",
       "semester. Your instructor is the final autho rity on whether you qualify for an incomp lete. \n",
       "Incomp lete work must  be finished by the end of the subs equent semester or the “I” will \n",
       "autom atically be recorded as an “F” on your transcript. \n",
       "XIV. Course Policies on Student Expectations  \n",
       " \n",
       " \n",
       "Netiquette Guidelines: \n",
       "General Comm unication Guidelines \n",
       " \n",
       " \n",
       "1. Act professionally in the way you comm unicate. Treat your instructors and peers with respect, \n",
       "the same way you would do on a face -to-face environment. Respect other people’s ideas and be \n",
       "const ructive when explaining your views about  points you may not agree \n",
       "with. \n",
       " \n",
       " \n",
       "2. Be sensitive. Be respectful and sensitive when sharing your ideas and opinions. There will be \n",
       "people in your class with different linguistic background s, political and religious beliefs or other \n",
       "general differences. \n",
       " \n",
       "3. Proofread and check spelling. Doing this before sending an e mail or post ing a thread on a \n",
       "discussion board will allow you to make sure your message is clear and thou ghtful. Avoid the use \n",
       "of all capital letters, it can be perceived as if you are shout ing, and it is more difficult to read. \n",
       " \n",
       "4. Keep your comm unications focused and stay on  topic. Comp lete your ideas before changing the \n",
       "subject. By keeping the m essage on focus you allow the readers to easily get your idea or \n",
       "answers they are looking for. \n",
       " \n",
       "5. Be clear with your message. Avoid using humor  or sarcasm. Since people can’t see your \n",
       "expressions or hear your tone  of voice, meaning can be misinterpreted. \n",
       " \n",
       " \n",
       "Email Guidelines: \n",
       " \n",
       "1. Please allow 24 hours for a response  M-F or 48 hour  response  on weekends and holidays. If I am \n",
       "not able to get an answer to you within that timeframe, I will at least acknowledge your email. \n",
       "That said – if you do not hear from me within 24 hours/48 hours please feel free to contact me a \n",
       "second time. \n",
       "2. All emails to have the  course ID, Semester Offered as well as som ething to summ arize the \n",
       "content. Example: MAN6055 F2018 – Grade review or MAN6055 F2018 – Exam concern \n",
       "3. Any personal, course or confidential issues shou ld be directly comm unicated to the instructor \n",
       "via email. The discussion boards are public spaces; therefore any issues shou ld not be posted \n",
       "there. \n",
       " \n",
       "XV. Help Resources \n",
       " \n",
       " \n",
       "Canvas Technical Support: Include information where stud ents can find technical suppo rt. \n",
       "Example: If you have technical difficulties in canvas, you can find access to the canvas guides and \n",
       "video resources in the “Canvas Help” page in the hom epage of your canvas course. You can also \n",
       "contact the help desk by calling 813-974-1222 in Tampa, or emailing help@usf.edu. \n",
       " \n",
       " \n",
       " University Polices  \n",
       "  \n",
       "2021  Fall COVID -19 Mitigation  Expectations  \n",
       "All students  and instructors  are expected  to wear  face coverings,  at all times,  during  in-\n",
       "person  classes.  Per guidance from the CDC and Board of Governors,  we expect  that all \n",
       "members  of our community  will wear  a mask  on campus,  vaccinated  or unvaccinated.  This \n",
       "is especially important while indoors, in crowded outdoor settings, if you have a weakened \n",
       "immune system or an underlying medical c ondition. Masks will be made available to anyone who \n",
       "needs one.  \n",
       "USF strongly  urges  all community  members  to get fully vaccinated.  Vaccines are our most \n",
       "reliable means of preventing the spread of COVID -19. The vaccine is free, readily available, and \n",
       "all of USF’s faculty, staff, and students are of age to be eligible for the vaccine; therefore, if \n",
       "someone chooses not to be vaccinated, they are assuming significant risk, including isolation and \n",
       "quarantine. Vaccines are also the most reliable way to ensure t hat students do not face any \n",
       "disruption to their studies or social activities, and faculty and staff do not face disruption to their \n",
       "teaching, research, or university work.  \n",
       "It is critically important that individuals who feel unwell stay home and contact S tudent Health \n",
       "Services or their primary care provider for medical advice. Report all possible exposures \n",
       "to assessCOVID@usf.edu . \n",
       "Students  in in-person  classes  may be assigned  to the same  seat for the durat ion of the Fall \n",
       "semester.  This can assist with exposure assessments should they be necessary.   \n",
       "A student  who will be absent  from  an in-person  class  (due  to isolation,  quarantine  or other  \n",
       "reason)  must  notify  the instructor  immediately  for guidance  on academ ic continuity  and \n",
       "student  learning.  \n",
       "Instructors  may schedule  remote  office  hours  during  the Fall 2021  semester.  \n",
       "In-person  classes  may be asked  (by USF leadership  or the COVID -19 team)  to transition  to \n",
       "temporary  remote  instruction  at any point  in the Fall semester.  \n",
       " \n",
       "Academic  Integrity  \n",
       "Academic integrity is the foundation of the University of South Florida’s commitment to the \n",
       "academic honesty and personal integrity of its university community. Academic integrity is \n",
       "grounded in certain fundamental values, which include honesty, respect, and fairness. Broadly \n",
       "defined, academic honesty is the completion of all academic endeavors and claims of scholarly \n",
       "knowledge as representative of one’s own efforts. The process for faculty reporting of academic \n",
       "misconduct, as well as the student’s options for appeal, are outlined in detail in  USF Regulation  \n",
       "3.027 . \n",
       " \n",
       "Academic  Grievance  Procedure  \n",
       "The purpose of these procedures is to provide all und ergraduate and graduate students taking \n",
       "courses  at the University of South Florida an opportunity for objective review of facts and events \n",
       "pertinent to the cause of the academic grievance. An “academic grievance” is a claim that a \n",
       "specific academic decisio n or action that affects that student’s academic record or status has \n",
       "violated published policies and procedures,  or has been applied to the grievant in a manner \n",
       "different from that used for other students.  \n",
       " \n",
       "Disability  Access  \n",
       "Students with disabilities are  responsible for registering with Students Accessibility  Services \n",
       "(SAS) (SVC 1133) in order to receive academic accommodations. SAS encourages students to \n",
       "notify instructors of accommodation needs at least five (5) business days prior to needing the \n",
       "accomm odation. A letter from SAS must accompany this request. Please visit \n",
       "the Student  Accessibility  Services  website  for more information.  \n",
       " \n",
       "Disruption  to Academic  Progress  Disruptive students in the academic setting hinder the educational process. Disruption of the \n",
       "academic process ( USF Regulation  3.025 ) is defined as the act, words, or general conduct of a \n",
       "student in a classroom or other academic environment which in the reasonable estimation of the \n",
       "instructor: (a) directs attention away from the academic matters at hand, such as noisy \n",
       "distractions, persistent, disrespectful or abusive interrupt ion of lecture, exam, academic \n",
       "discussion, or general University operations, or (b) presents a danger to the health, safety, or well -\n",
       "being of self or other persons.  \n",
       " \n",
       "Food  and Housing  Insecurity  \n",
       "We recognize that student facing financial difficulty in secur ing a stable place to live and/or in \n",
       "affording sufficient groceries may be at risk of these financial issues affecting their performance in \n",
       "classes. Students with these needs are urged to contact Feed -A-Bull \n",
       "(feedabull@usf.edu  or their  website ), or Student Outreach and Support \n",
       "(socat@usf.edu  or their  website ).  \n",
       " \n",
       "Intellectual  Freedom  and Viewpoint  Diversity  Act (House  Bill 233)  \n",
       "Preliminary  Guidance  Document  \n",
       "Students may, without prior notice, record video or audio of a class lecture for a class in which the \n",
       "student is enrolled for thei r own personal, educational use. A class lecture is defined as a formal \n",
       "or methodical oral presentation as part of a university course intended to present information or \n",
       "teach enrolled students about a particular subject. Recording class activities other t han class \n",
       "lectures, including but not limited to lab sessions, student presentations (whether individually or \n",
       "part of a group), class discussion, clinical presentations such as patient history, academic \n",
       "exercises involving student participation, test or ex amination administrations, field trips, private \n",
       "conversations between students in the class or between a student and the faculty member is \n",
       "prohibited. Recordings may not be used as a substitute for class participation and class \n",
       "attendance and may not be pu blished or shared without the written consent of the faculty \n",
       "member. Failure to adhere to these requirements may constitute a violation of the  USF Student  \n",
       "Conduct  Code .  \n",
       " \n",
       "Religious  Observances  \n",
       "All students have a right to expect that the University will reasonably accommodate their religious \n",
       "observances, practices and beliefs ( USF Policy  10-045). The University of South Florida, through \n",
       "its faculty, will make every attempt to schedule required classes and examinations in view of \n",
       "customarily observed religious holidays of those religious groups or communities comprising \n",
       "USF’s constituency. Students are expected to at tend classes and take examinations as \n",
       "determined by the university. No student shall be compelled to attend class or sit for an \n",
       "examination at a day or time prohibited by his or her religious belief. However, students should \n",
       "review the course requirements and meeting days and times to avoid foreseeable conflicts, as \n",
       "excessive absences in a given term may prevent a student from completing the academic \n",
       "requirements of a specific course. Students are expected to notify their instructors at the \n",
       "beginning of eac h academic term if they intend to be absent for a class or announced \n",
       "examination, in accordance with this Policy.  \n",
       " \n",
       "Sexual  Misconduct  / Sexual  Harassment  \n",
       "USF is committed to providing an environment free from sex discrimination, including sexual \n",
       "harassment and sexual violence ( USF Policy  0-004). The USF Center for Victim Advocacy is a \n",
       "confidential resource where you can talk about incidents of sexual harassment and gender -based \n",
       "crimes inclu ding sexual assault, stalking, and domestic/relationship violence. This confidential \n",
       "resource can help you without having to report your situation to the  Title IX Office unless you \n",
       "request that they make a report. Contact the USF  Center  for Victim  Advocacy : 813 -974-5757. \n",
       "Please be aware that in compliance with Title IX and under the USF Policy, educators must report \n",
       "incidents of sexual harassment and gender -based crimes includi ng sexual assault, stalking, and domestic/relationship violence. If you disclose any of these situations personally to an educator, \n",
       "he or she is required to report it to the Title IX Office. For more information about Title IX, a full list \n",
       "of resources, or  to report incidents of sexual harassment, sexual violence, relationship violence or \n",
       "stalking visit:  usf.edu/title -ix \n",
       " \n",
       "Statement  of Academic  Continuity  \n",
       "In the event of an emergency, it may be necessary for USF to suspend normal operations. During \n",
       "this time, USF may opt to continue delivery of instruction through methods that include, but are \n",
       "not limited to: Canvas, Teams, email messaging, and/or an alternate schedule. It is the \n",
       "responsibility o f the student to monitor the Canvas for each class for course -specific \n",
       "communication, and the USF, College, and Department websites, emails, \n",
       "and ALERTUSF  messages for important general information ( USF Policy  6-010). \n",
       " \n",
       " \n",
       "XVI. Class  Recording  \n",
       "Classes  will be recorded  and streamed  online.  Student’s  voice and video  will be included  in the \n",
       "class recording.  It is the student’s  responsibility  to make  sure the privacy  of their surroundings  \n",
       "and background  is maintained.  \n",
       " \n",
       " \n",
       "XVII. Online  Proctoring  \n",
       "Quizzes  and examinations  will be conducted  using  online  proctoring  tools.  Keeping  the audio  and \n",
       "video  (microphone  and camera)  on during  such exams  and quizzes  is a must.  If the student  is not \n",
       "willing  to use these,  the student  is asked  not to register  for this course.  Any student  may elect to \n",
       "drop or withdraw  from this course  before  the end of the drop/add  period.  Online  exams  and \n",
       "quizzes  within  this course  may require  online  proctoring.  Therefore,  students  will be required  to \n",
       "have a webcam  (USB or internal)  with a microphone  when  taking  an exam  or quiz. Students  \n",
       "understand  that this remote  recording  device  is purchased  and controlled  by the student  and that \n",
       "recordings  from any private  residence  must be done with the permission  of any person  residing  in \n",
       "the residence.  To avoid  any concerns  in this regard,  students  should  select  private  spaces  for the \n",
       "testing.  The University  library  and other academic  sites at the University  offer secure  private  \n",
       "settings  for recordings,  and students  with concerns  may discuss  the location  of an appropriate  \n",
       "space  for the recordings  with their instructor  or advisor.  Students  must ensure  that any \n",
       "recordings  do not invade  any third-party privacy  rights  and accept  all responsibility  and liability  for \n",
       "violations  of any third-party privacy concerns.  Setup  information  will be provided  prior to taking  \n",
       "the proctored  exam.  For additional  information  about  online  proctoring  you can visit the online  \n",
       "proctoring  student  FAQ at http://www.usf.edu/innovative -education/resources/student -\n",
       "services/online -proctoring.aspx  \n",
       " \n",
       " \n",
       " ', metadata={'text': 'COURSE SYLLABUS \\nMAN3301:  Human Resource Management  \\nSchool of In formation Sys tems and Management  \\nMuma College of Business, University of South Florida \\nSemester: Spring  2023 \\nClass Meeting Time: from January 10  to May  5, 202 2 \\nClass Meeting Location: Online  \\nInstructor: Prof. Terry A. Boyd  \\nOffice Location: BSN 3516  \\nOffice Hours: 5:00 – 6:00PM T hurs days (from August  23 to December  10, 202 1) or by appointment \\nEmail: boyd56@usf.edu   \\nI. Welcome Message\\nWelcome to Human Resource Management. This co urse wi ll introduce yo u to co ncepts found  \\nin the human resource literat ure that wi ll help yo u as yo u progres s in your care er. This co urse \\nwill help yo u to become fully acquainted with the academic co ncepts of HRM and apply them \\nto day to day sit uatio ns at the workplace. Th e course wi ll be taugh t from the pers pective that \\nyou are or wi ll someday be a leader in an organizatio n with a grasp of the benefits of HRM.\\nII. University Course Description\\nCredit(s): 3\\nTo develop a broad exposure to new approaches, techniques, and future trends in the  \\nmanagement of personnel. A study of the major functions in personnel including job analysis, \\nmanpower planning, selection, performance evaluation, training, and wage and salary  \\nadministration.\\nIII. Course Prerequisite(s):  MAN 3025  with a minimum grade of C-\\nIV. Course Overview/ Description\\nAn examinatio n of the theory and practice of human resource management, includin g \\nassisting students with building skills needed to recruit, select, train, and develop people. The \\ncourse is design to assist the student with the application of human resource skills  developed \\nby presenting the course in five phases: 1) Mission/Values; (2) Producing staffing to achieve \\norganizational goals; (3) Sustaining quality staff; (4) Appropriately supporting  employees; and \\n(5) Societal responsibility.\\n \\nV. Learning Goals  \\nThe course is divided into quarters with each focusing on specific reading assignments and \\nexaminations. To be successful, students should be prepared for each week  by reading prior \\nto accessing lectures  and prepare for participation  via blog assignments . Each week  will \\ninclude  discussions that will challenge students to:  \\n1. Comprehend and explain major theories, concepts, and principles of human \\nresource management    \\n2. Apply major theories, concepts, and principles of human resource management  \\ncorrectly in new situations  \\n3. Anal yze iss ues of human resource management  using appro priate methods  and \\n4. Create and evaluate solutions based on scientific knowledge and evi dence.  \\n \\nVI. Course Objectives \\nAt the end of this course stud ents shou ld be able to: \\n1. Describe the major HRM discipline areas  \\n2. Understand the purpose for managing human resources  \\n3. Describe the major equal employment opportunity laws specifying the groups of people \\neach law protects, and explain the two primary types of sexual harassment and how to \\navoid them  \\n4. Summarize the four  methods for shaping employee behavior  \\n5. Discuss the difference between performance management and performance appraisals  \\n6. Identify the basic issues that make up an organization’ compensation strategy  and  \\n7. Identify the factors required in a good code of ethics.  \\n \\n \\nVII. Course Topics  \\nInclude (but not limited to):  \\nMission/values of the organization and its relationship to HRM, staffing, employee training/development, \\ncompensation, and societal responsibility of the organization.  \\n \\n \\nVIII. Textbook \\nLussier, Robert N. and Hendon, John R.  (2020) Fundamentals of Human Resource  Management  (2nd \\nedition). Canada : Sage . \\n \\n \\nIX. Reading Assignments  \\n \\nParts (weeks of Course)  Chapters  Topics  \\nPart One: weeks 1 -3 1, 2, and 3  HRM Environment  \\nPart Two: weeks  4-6 4, 5, and 6  Staffing  \\nPart Three: weeks 7-9 7, 8, and 9  Developing and Managing  \\nPart Four: weeks 1 1 – 12 \\n                   10 and 1 1 \\n Compensation , Incentives and \\nBenefits  \\nPart Five: weeks 1 3 - 14 12 and 13  Workplace Safety, Health and \\nDiversity  \\n \\n \\n \\n \\n \\n \\n  \\n \\n \\nX. Basis for Final Grade \\n \\nAssessment Item % of Grade \\napp \\n \\n( Points \\nParticipation /Blogs  \\n \\n blog s)       20   100 \\nQuizzes (25 points each)   30 75 \\nMid-term             20              50 \\nFinal Exam            30            100 \\nTotal 100%     325 \\n \\n \\n \\n  \\nGrade  Points  Performance  \\nA 292 – 325 Excellent  \\nB 260 – 291 Good  \\nC 227 – 259 Average  \\nD 195 – 226 Poor  \\nF < 195 Failure  \\n \\n \\n \\nXI. Course Assessment Types \\nParticipation /Blogs  (20%): Your active participation is vital to the learning process.  \\nParticipation will include following instructions for blog activity. You will be responsible \\nfor submitting your blog in a timely manner.   \\n \\n \\nQuiz (30%): There will be 3 quizzes (25 points each) based on the classroom discussions  and \\nreading  content to ensure you are aware of the main takeaways from each of the \\nlectures/sessions . Quiz zes administered on Canvas.  \\n \\nMid-term Exam ( 20%): The mid -term exam will be based on course content covered \\nthroughout the course to the date of exam. It will provide a means of assessment of where the \\nstudent stands midway in the course. Mid-term will be administered on Canvas  \\n \\nFinal Exam (30%): The final exam will be accumu lative based on the lectures and readings from \\nthe assigned text . There will be both multiple choice and true/false  questions. Exam will be \\nadministered on Canvas.  \\n \\n \\nXII. Tableau Assignment   \\nUSF has launched a Citizen Data Science Certificate program for the undergraduate students at the \\nMUMA college of business. This program is a joint program with Tableau. Please refer to th e \\nTableau presentation (Links to an external site) or the video (Links to an external site) to learn  \\nmore about the program.  These links can be found on the Canvas Assignment page. Note: this \\nassignment will generate up to 10 extra credit for the Human Resource M anagement Course.  \\n \\n \\n \\n \\nXIII. Course Policies on Grades \\n \\nGrades of Incomplete: \\nThe current university policy concerning incomp lete grades will be followed in this course. \\nIncomp lete grades are given only in situations where unexpected emergencies prevent a stud ent from comp leting the course and the remaining work can be comp leted the nex t \\nsemester. Your instructor is the final autho rity on whether you qualify for an incomp lete. \\nIncomp lete work must  be finished by the end of the subs equent semester or the “I” will \\nautom atically be recorded as an “F” on your transcript. \\nXIV. Course Policies on Student Expectations  \\n \\n \\nNetiquette Guidelines: \\nGeneral Comm unication Guidelines \\n \\n \\n1. Act professionally in the way you comm unicate. Treat your instructors and peers with respect, \\nthe same way you would do on a face -to-face environment. Respect other people’s ideas and be \\nconst ructive when explaining your views about  points you may not agree \\nwith. \\n \\n \\n2. Be sensitive. Be respectful and sensitive when sharing your ideas and opinions. There will be \\npeople in your class with different linguistic background s, political and religious beliefs or other \\ngeneral differences. \\n \\n3. Proofread and check spelling. Doing this before sending an e mail or post ing a thread on a \\ndiscussion board will allow you to make sure your message is clear and thou ghtful. Avoid the use \\nof all capital letters, it can be perceived as if you are shout ing, and it is more difficult to read. \\n \\n4. Keep your comm unications focused and stay on  topic. Comp lete your ideas before changing the \\nsubject. By keeping the m essage on focus you allow the readers to easily get your idea or \\nanswers they are looking for. \\n \\n5. Be clear with your message. Avoid using humor  or sarcasm. Since people can’t see your \\nexpressions or hear your tone  of voice, meaning can be misinterpreted. \\n \\n \\nEmail Guidelines: \\n \\n1. Please allow 24 hours for a response  M-F or 48 hour  response  on weekends and holidays. If I am \\nnot able to get an answer to you within that timeframe, I will at least acknowledge your email. \\nThat said – if you do not hear from me within 24 hours/48 hours please feel free to contact me a \\nsecond time. \\n2. All emails to have the  course ID, Semester Offered as well as som ething to summ arize the \\ncontent. Example: MAN6055 F2018 – Grade review or MAN6055 F2018 – Exam concern \\n3. Any personal, course or confidential issues shou ld be directly comm unicated to the instructor \\nvia email. The discussion boards are public spaces; therefore any issues shou ld not be posted \\nthere. \\n \\nXV. Help Resources \\n \\n \\nCanvas Technical Support: Include information where stud ents can find technical suppo rt. \\nExample: If you have technical difficulties in canvas, you can find access to the canvas guides and \\nvideo resources in the “Canvas Help” page in the hom epage of your canvas course. You can also \\ncontact the help desk by calling 813-974-1222 in Tampa, or emailing help@usf.edu. \\n \\n \\n University Polices  \\n  \\n2021  Fall COVID -19 Mitigation  Expectations  \\nAll students  and instructors  are expected  to wear  face coverings,  at all times,  during  in-\\nperson  classes.  Per guidance from the CDC and Board of Governors,  we expect  that all \\nmembers  of our community  will wear  a mask  on campus,  vaccinated  or unvaccinated.  This \\nis especially important while indoors, in crowded outdoor settings, if you have a weakened \\nimmune system or an underlying medical c ondition. Masks will be made available to anyone who \\nneeds one.  \\nUSF strongly  urges  all community  members  to get fully vaccinated.  Vaccines are our most \\nreliable means of preventing the spread of COVID -19. The vaccine is free, readily available, and \\nall of USF’s faculty, staff, and students are of age to be eligible for the vaccine; therefore, if \\nsomeone chooses not to be vaccinated, they are assuming significant risk, including isolation and \\nquarantine. Vaccines are also the most reliable way to ensure t hat students do not face any \\ndisruption to their studies or social activities, and faculty and staff do not face disruption to their \\nteaching, research, or university work.  \\nIt is critically important that individuals who feel unwell stay home and contact S tudent Health \\nServices or their primary care provider for medical advice. Report all possible exposures \\nto assessCOVID@usf.edu . \\nStudents  in in-person  classes  may be assigned  to the same  seat for the durat ion of the Fall \\nsemester.  This can assist with exposure assessments should they be necessary.   \\nA student  who will be absent  from  an in-person  class  (due  to isolation,  quarantine  or other  \\nreason)  must  notify  the instructor  immediately  for guidance  on academ ic continuity  and \\nstudent  learning.  \\nInstructors  may schedule  remote  office  hours  during  the Fall 2021  semester.  \\nIn-person  classes  may be asked  (by USF leadership  or the COVID -19 team)  to transition  to \\ntemporary  remote  instruction  at any point  in the Fall semester.  \\n \\nAcademic  Integrity  \\nAcademic integrity is the foundation of the University of South Florida’s commitment to the \\nacademic honesty and personal integrity of its university community. Academic integrity is \\ngrounded in certain fundamental values, which include honesty, respect, and fairness. Broadly \\ndefined, academic honesty is the completion of all academic endeavors and claims of scholarly \\nknowledge as representative of one’s own efforts. The process for faculty reporting of academic \\nmisconduct, as well as the student’s options for appeal, are outlined in detail in  USF Regulation  \\n3.027 . \\n \\nAcademic  Grievance  Procedure  \\nThe purpose of these procedures is to provide all und ergraduate and graduate students taking \\ncourses  at the University of South Florida an opportunity for objective review of facts and events \\npertinent to the cause of the academic grievance. An “academic grievance” is a claim that a \\nspecific academic decisio n or action that affects that student’s academic record or status has \\nviolated published policies and procedures,  or has been applied to the grievant in a manner \\ndifferent from that used for other students.  \\n \\nDisability  Access  \\nStudents with disabilities are  responsible for registering with Students Accessibility  Services \\n(SAS) (SVC 1133) in order to receive academic accommodations. SAS encourages students to \\nnotify instructors of accommodation needs at least five (5) business days prior to needing the \\naccomm odation. A letter from SAS must accompany this request. Please visit \\nthe Student  Accessibility  Services  website  for more information.  \\n \\nDisruption  to Academic  Progress  Disruptive students in the academic setting hinder the educational process. Disruption of the \\nacademic process ( USF Regulation  3.025 ) is defined as the act, words, or general conduct of a \\nstudent in a classroom or other academic environment which in the reasonable estimation of the \\ninstructor: (a) directs attention away from the academic matters at hand, such as noisy \\ndistractions, persistent, disrespectful or abusive interrupt ion of lecture, exam, academic \\ndiscussion, or general University operations, or (b) presents a danger to the health, safety, or well -\\nbeing of self or other persons.  \\n \\nFood  and Housing  Insecurity  \\nWe recognize that student facing financial difficulty in secur ing a stable place to live and/or in \\naffording sufficient groceries may be at risk of these financial issues affecting their performance in \\nclasses. Students with these needs are urged to contact Feed -A-Bull \\n(feedabull@usf.edu  or their  website ), or Student Outreach and Support \\n(socat@usf.edu  or their  website ).  \\n \\nIntellectual  Freedom  and Viewpoint  Diversity  Act (House  Bill 233)  \\nPreliminary  Guidance  Document  \\nStudents may, without prior notice, record video or audio of a class lecture for a class in which the \\nstudent is enrolled for thei r own personal, educational use. A class lecture is defined as a formal \\nor methodical oral presentation as part of a university course intended to present information or \\nteach enrolled students about a particular subject. Recording class activities other t han class \\nlectures, including but not limited to lab sessions, student presentations (whether individually or \\npart of a group), class discussion, clinical presentations such as patient history, academic \\nexercises involving student participation, test or ex amination administrations, field trips, private \\nconversations between students in the class or between a student and the faculty member is \\nprohibited. Recordings may not be used as a substitute for class participation and class \\nattendance and may not be pu blished or shared without the written consent of the faculty \\nmember. Failure to adhere to these requirements may constitute a violation of the  USF Student  \\nConduct  Code .  \\n \\nReligious  Observances  \\nAll students have a right to expect that the University will reasonably accommodate their religious \\nobservances, practices and beliefs ( USF Policy  10-045). The University of South Florida, through \\nits faculty, will make every attempt to schedule required classes and examinations in view of \\ncustomarily observed religious holidays of those religious groups or communities comprising \\nUSF’s constituency. Students are expected to at tend classes and take examinations as \\ndetermined by the university. No student shall be compelled to attend class or sit for an \\nexamination at a day or time prohibited by his or her religious belief. However, students should \\nreview the course requirements and meeting days and times to avoid foreseeable conflicts, as \\nexcessive absences in a given term may prevent a student from completing the academic \\nrequirements of a specific course. Students are expected to notify their instructors at the \\nbeginning of eac h academic term if they intend to be absent for a class or announced \\nexamination, in accordance with this Policy.  \\n \\nSexual  Misconduct  / Sexual  Harassment  \\nUSF is committed to providing an environment free from sex discrimination, including sexual \\nharassment and sexual violence ( USF Policy  0-004). The USF Center for Victim Advocacy is a \\nconfidential resource where you can talk about incidents of sexual harassment and gender -based \\ncrimes inclu ding sexual assault, stalking, and domestic/relationship violence. This confidential \\nresource can help you without having to report your situation to the  Title IX Office unless you \\nrequest that they make a report. Contact the USF  Center  for Victim  Advocacy : 813 -974-5757. \\nPlease be aware that in compliance with Title IX and under the USF Policy, educators must report \\nincidents of sexual harassment and gender -based crimes includi ng sexual assault, stalking, and domestic/relationship violence. If you disclose any of these situations personally to an educator, \\nhe or she is required to report it to the Title IX Office. For more information about Title IX, a full list \\nof resources, or  to report incidents of sexual harassment, sexual violence, relationship violence or \\nstalking visit:  usf.edu/title -ix \\n \\nStatement  of Academic  Continuity  \\nIn the event of an emergency, it may be necessary for USF to suspend normal operations. During \\nthis time, USF may opt to continue delivery of instruction through methods that include, but are \\nnot limited to: Canvas, Teams, email messaging, and/or an alternate schedule. It is the \\nresponsibility o f the student to monitor the Canvas for each class for course -specific \\ncommunication, and the USF, College, and Department websites, emails, \\nand ALERTUSF  messages for important general information ( USF Policy  6-010). \\n \\n \\nXVI. Class  Recording  \\nClasses  will be recorded  and streamed  online.  Student’s  voice and video  will be included  in the \\nclass recording.  It is the student’s  responsibility  to make  sure the privacy  of their surroundings  \\nand background  is maintained.  \\n \\n \\nXVII. Online  Proctoring  \\nQuizzes  and examinations  will be conducted  using  online  proctoring  tools.  Keeping  the audio  and \\nvideo  (microphone  and camera)  on during  such exams  and quizzes  is a must.  If the student  is not \\nwilling  to use these,  the student  is asked  not to register  for this course.  Any student  may elect to \\ndrop or withdraw  from this course  before  the end of the drop/add  period.  Online  exams  and \\nquizzes  within  this course  may require  online  proctoring.  Therefore,  students  will be required  to \\nhave a webcam  (USB or internal)  with a microphone  when  taking  an exam  or quiz. Students  \\nunderstand  that this remote  recording  device  is purchased  and controlled  by the student  and that \\nrecordings  from any private  residence  must be done with the permission  of any person  residing  in \\nthe residence.  To avoid  any concerns  in this regard,  students  should  select  private  spaces  for the \\ntesting.  The University  library  and other academic  sites at the University  offer secure  private  \\nsettings  for recordings,  and students  with concerns  may discuss  the location  of an appropriate  \\nspace  for the recordings  with their instructor  or advisor.  Students  must ensure  that any \\nrecordings  do not invade  any third-party privacy  rights  and accept  all responsibility  and liability  for \\nviolations  of any third-party privacy concerns.  Setup  information  will be provided  prior to taking  \\nthe proctored  exam.  For additional  information  about  online  proctoring  you can visit the online  \\nproctoring  student  FAQ at http://www.usf.edu/innovative -education/resources/student -\\nservices/online -proctoring.aspx  \\n \\n \\n '})"
      ]
     },
     "execution_count": 59,
     "metadata": {},
     "output_type": "execute_result"
    }
   ],
   "source": [
    "documents_list[0]"
   ]
  },
  {
   "cell_type": "code",
   "execution_count": null,
   "id": "7cd05195",
   "metadata": {},
   "outputs": [
    {
     "data": {
      "text/plain": [
       "[Document(page_content='effort to provide support and equal access, USF has designated all faculty (TA, Ad junct, etc.) as Responsible Employees, who are required to report any disclosures of sexual harassment, sexual violence, relationship violence or stalking. The Title IX Office makes every effort, when safe to do so, to reach out and provide resources and a ccommodations, and to discuss possible options for resolution. Anyone wishing to make a Title IX report or seeking accommodations may do so online, in person, via phone, or email to the Title IX Office. For information about Title IX or for a full list of resources please visit: https://www.usf.edu/title - ix/gethelp/resources.aspx . If you are unsure what to do, please contact Victim Advocacy – a confidential resource that can re view all your options – at 813 -974-5756 or va@admin.usf.edu . Course Hero / Chegg Policy: The USF Policy on Aca demic Integrity specifies that students may not use websites that enable cheating, such as by uploading or downloading material for this purpose. This does apply specifically to Chegg.com and CourseHero.com – almost any use of these websites (including uploading proprietary materials) constitutes a violation of the academic integrity policy. Academic Accommodations Students with disabilities are responsible for registering with Student Accessibility Services (SAS) in order to receive academic accommodations. For additional information about academic accommodations and resources, you can visit the SAS website. SAS website for the Tampa and Sarasota -Manatee campuses. SAS website for the St. Pet e campus. Academic Support Services The USF Office of Student Success coordinates and promotes university -wide efforts to enhance undergraduate and graduate student success. For a comprehensive list of academic support services available to all USF studen ts, please visit the Office of Student Success website . Canvas Technical Support If you have technical difficulties in Canvas, you can find access to the Canvas guides and video resources in the “Canvas Help” page on the homepage of your Canvas course. You can also contact the help desk by calling 813 -974-1222 in Tampa or emailing help@usf.edu. IT website for the Tampa campus. IT website for the St. Pete campus. IT website for the Sarasota -Manatee campus. Center for Victim Advocacy The Center for Victim Advocacy emp owers survivors of crime, violence, or abuse by promoting the restoration of decision making, by advocating for their rights, and by offering support and resources. Contact information is available online. Counseling Center The Counseling Center promotes the wellbeing of the campus community by providing culturally sensitive counseling, consultation, prevention, and training that enhances student academic and personal success. Contact information is available online. Counseling Center website for the Tampa campus. Counseling Cent er website for the St. Pete campus. Counseling Center website for the Sarasota -Manatee campus. Campus Free Expression: It is fundamental to the University of South Florida’s mission to support an environment where divergent ideas, theories, and philosophies can be openly exchanged and critically evaluated. Consistent with these principles, this course may involve discussio n of ideas that you find uncomfortable, disagreeable, or even offensive. In the instructional setting, ideas are intended to be presented in an objective manner and not as an endorsement of what you should personally believe. Objective means that the ide a(s) presented can be tested by critical peer review and rigorous debate, and that the idea(s) is supported by credible research. Not all ideas can be supported by objective methods or criteria. Regardless, you may decide that certain ideas are worthy of your personal belief. In this course, however, you may be asked to engage with complex ideas and to demonstrate an understanding of the ideas. Understanding an idea does not mean that you are required to believe it or agree with it. USF Core Syllabus Pol icies USF has a set of central policies related to student recording class sessions, academic integrity and grievances, student accessibility services, academic disruption, religious observances, academic continuity, food insecurity, and sexual harassment that apply to all courses at USF . Be sure to review these online at: https://www.usf.edu/provost/faculty/core -syllabus -policy -statements.aspx Any USF policy will supersede any policy mentioned in this syllabus.'),\n",
       " Document(page_content='social distancing. All students, faculty, staff and guests are required to main tain a safe distance from one another. Social distancing is maintained in all indoor and outdoor spaces which are owned or controlled by USF. Stay at least 6 feet (about 2 arms’ length) from other people, do not gather in groups, stay out of crowded places and avoid mass gatherings. See the CDC for information on Social Distancing . Please sit in only designated areas in class and do not move cha irs or desks in classrooms or common spaces. 4. Practice good hand hygiene. Individuals should wash their hands with soap and water for at least 20 seconds as often as possible or use personal hand sanitizers containing at least 60% alcohol. Hand sanitizer stations are available throughout the campus. If you see one, use it! See the CDC recommendations on Hand Hygiene . 5. Disinfect your classroom space. Students and faculty are responsible for disinfecting areas within their workspaces by cleaning these at the beginning and end of each class. This includes desk tops, seats, and equipment used during class. Disinfectant supplies will be provided. If paper towels are us ed to disinfect, they must be discarded in a trash receptable immediately after use. 2023 Spring _MAN 4930_ Business Analysis _Unhelkar , Bhuvan .Docx Page 12 of 15 GRADING, EVALUATION AND ATTENDANCE POLICIES : A. Per USF policy, you receive a graded assignment or examination prior to the semester’s drop/withdraw date. B. Specifically state the value of and the manner in which each assignment in the syllabus will be evaluated or graded. Periodic reports on project progress are a contributing factor to the final grad e. C. The course grade includes an assessment on how well you have demonstrated the five learning outcomes listed above. We will use the straight A,B,C,D and F system, point system. D. This course does not require any class attendance. However, periodic updates on project progress, issues encountered, hurdles, etc. will be communicated – and, in rare cases, a face -to-face meeting organized by the faculty in charge. E. The notes, videos, quizzes etc. provided for your study in this class is intellectual property of the faculty. Students are NOT permitted to post the study material and quizzes anywhere online on the internet. USF System Policies Policies are available in the USF Catalog and at regulationspolicies.usf.edu . A. Academic Dishonesty : The University considers any form of plagiarism or cheating on exams, projects, or papers to be una cceptable behavio r. It is important to remember that academic integrity policies apply throughout the semester and in all channels of communication. Informing others about the contents of online tests is prohibited by the official regulation , as is receiving unauthorized information about an examination. Students are expected and required to immediately report instances of such violations to the instructor. Pleas e review the USF System Regulation USF3.027 Academic Integrity of Students and the USF System Regulation USF6.0021 Student Code of Conduct . B. Academic Disruption : The University does not tolerate behavior that disrupts the learning process. Please review USF System Regulation USF3.025 Disruption of Academic Policy . C. Contingency Plans : In the event of an emergency, it may be necessary for USF (SM) to suspend normal operations. During this time, USF (SM) may opt to continue delivery of instruction through methods that include but are not limited to: Canvas, online conferencing/collaboration tools , email messaging , and/or an alternate schedule. It is the responsibility of the student to monitor Canvas for each of their class es for cou rse specific communication, as well as the USF (SM) website, their student email account , and MoBull messages for important general information. The USF hotline at 1 (800) 992-4231 is updated with pre -recorded inf ormation during an emergency. See the Campus Police Website for further information. D. Accessibility Accommodation : Students are responsible for registering with the Office of Students Accessibility Services (SDS) in order to receive academic accommodations. Reasonable notice must be given to the SDS office (typically 5 working days) for accommodations to be arranged. I t is the responsibility of the student to provide each instructor with a copy of the official Memo of Accommodation. Contact Informati on: Students Accessibility Services Coordinator, 941 -359-4714, disab ilityservices@sar.usf.edu , http:// USF (SM) .edu/disability -services/ E. Fire Alarm Instructions : At the beginning of each semester please note the emergency exit maps posted in each classroom. These signs are marked with the primary evacuation route (red) and secondary evacuation route (orange) in case the building needs to be evacuated. See Emergency Evacuation Procedures . 2023 Spring _MAN 4930_ Business Analysis _Unhelkar , Bhuvan .Docx Page 13 of 15 F. Religious Observances : USF (SM) recognizes the right of students and faculty to observe major religious holidays. Students who anticipate the necessity of being absent from class for a major religious observance must provide notice of the date(s) to the instructor, in writing, by the second week of classes. Instructors canceling class for a religious observance should have this stated in the syllabus with an appropriate alternative assignment. G. Protection of Students Against Discrimination and Harassment: 1. Sexual Misconduct/S exual Harassment Reporting: USF (SM) is committed to providing an environment free from sex discrimination, including sexual harassment and sexual violence (USF System Policy 0-004). 2. Other Types of Discrimination and Harassment: USF (SM) also is committed to providing an environment free from discrimination and harassment based on race, color, marital status, sex, religion, national origin, disability, age, genetic information, sexual orientation, gender identity and expression, or veteran status (USF System Policy 0-007). H. Web Portal Information: Every newly enrolled USF student receives an official USF e-mail account. Students receive official USF correspondence and Canvas course information via that address. The web portal is accessed at http://my.usf.edu. GENERAL INSTRUCTION FOR STUDENTS : A. Academic Support Services: The Information Commons provides students with individual and group study spaces, computers, printers, and various media equipment'),\n",
       " Document(page_content='ompany this request. Please visit the Student Accessibility Services website for more information. Disruption to Academic Progress Disruptive students in the academic setting hinder the educational process. Disruption of the academic process (USF Regulation 3.025) is defined as the act, words, or general conduct of a student in a classroom or other academic environment which in the reasonable estimation of the instructor: (a) directs attention away from the academic matters at hand, such as noisy distractions, persistent, disrespectful or abusive interruption of lecture, exam, academic discussion, or general University operations, or (b) presents a danger to the health, safety, or well -being of self or other persons. Food and Housing Insecurity We recognize that student facing financial difficulty in securing a stable place to live and/or in affording sufficient groceries may be at risk of these financial issues affecting their performance in classes. Students with these needs are urged to contact Feed- A-Bull (feedabull@usf.edu or their website), or Student Outreach and Support (socat@usf.edu or their website). 11 Religious Observances All students have a right to expect that the University will reasonably accommodate their religious observances, practices and beliefs (USF Policy 10- 045). The University of South Florida, through its faculty, will make every attempt to schedule required classes and examinations in view of customarily observed religious holidays of those religious groups or communiti es comprising USF’s constituency. Students are expected to attend classes and take examinations as determined by the university. No student shall be compelled to attend class or sit for an examination at a day or time prohibited by his or her religious bel ief. However, students should review the course requirements and meeting days and times to avoid foreseeable conflicts, as excessive absences in a given term may prevent a student from completing the academic requirements of a specific course. Students are expected to notify their instructors at the beginning of each academic term if they intend to be absent for a class or announced examination, in accordance with this Policy. Sexual Misconduct / Sexual Harassment USF is committed to providing an environment free from sex discrimination, including sexual harassment and sexual violence (USF Policy 0 -004). The USF Center for Victim Advocacy is a confidential resource where you can talk about incidents of sexual harassment and gender - based crimes inc luding sexual assault, stalking, and domestic/relationship violence. This confidential resource can help you without having to report your situation to either the Office of Student Rights and Responsibilities (OSSR) or the Office of Diversity, Inclusion, a nd Equal Opportunity (DIEO), unless you request that they make a report. Please be aware that in compliance with Title IX and under the USF Policy, educators must report incidents of sexual harassment and gender -based crimes including sexual assault, stalk ing, and domestic/relationship violence. If you disclose any of these situations in class, in papers, or personally to an educator, he or she is required to report it to OSSR or DIEO for investigation. Contact the USF Center for Victim Advocacy: 813-974- 5757. Statement of Academic Continuity In the event of an emergency, it may be necessary for USF to suspend normal operations. During this time, USF may opt to continue delivery of instruction through methods that include, but are not limited to: Learning Management System, online conferencing, email messaging, and/or an alternate schedule. It is the responsibility of the student to monitor the Learning Management System for each class for course -specific communication, and the main USF, College, and Department websites, emails, and MoBull messages for important general information (USF Policy 6 -010). For additional guidance on emergency protective actions and hazards that affect the University, please visit www.usf.edu/em 12 XXII. Course Policies: Grades Late Work Policy : Make -ups for exams are at the discretion of the professor and require appropriate documentation. Other than providing documentation for an emergency situation, all make -up exams requests require advance notice. Further, the burden of proof for a make -up falls on the student. Do not request a make -up exam without appropriate documentation. All other assignments (not including extra credit) turned in late will be assessed a 25% penalty if within 59 minutes of the deadline. If between 1 hour and 24 hours late, a 50% penalty will be assessed. After 24 hours late no work will be accepted for credit. The s ubmission times recorded in Canvas will be utilized for all late work penalties. If you have Canvas issues and the deadline is close, you should email your completed work immediately and then finish your submission process. I will only grade papers submitt ed through Canvas. The email will only serve to demonstrate you attempted to submit your work on time. Extra Credit Policy : An extra credit opportunity may be provided. If so, all students will have an equal opportunity to earn the same level of extra credit as all other student regardless of the pre-existing grade in the class. No late submissions are allowed with regards to extra credit. Grades of \"Incomplete\": An Incomplete grade (\"I\") is exceptional and granted at the instructor’s discretion only when students are unable to complete course requirements due to illness or other circumstances beyond their control. The course instructor and student must complete and sign the \"I\" Grade Contract Form that describes the work to be completed, the date it is due, and the grade the student would earn factoring in a zero for all incomplete assignments. The due date can be negotiated and extended by student/instructor as long as it does not exceed two semesters for undergraduate courses and one semester for graduate courses from the original date grades were due for that course. An \"I\" grade not cleared within the two semesters for undergraduate courses and one semester for graduate courses (including summer semester) will revert to the grade noted on the contract. Rewrite Policy : Students have the opportunity to get feedback before assignments are turned in for a grade. Thus, no rewrites for a')]"
      ]
     },
     "execution_count": 64,
     "metadata": {},
     "output_type": "execute_result"
    }
   ],
   "source": [
    "vectorstore = Pinecone(\n",
    "    index, embed_model.embed_query, text_field\n",
    ")\n",
    "\n",
    "query = \"USF Student Conduct Code\"\n",
    "sample = vectorstore.similarity_search(query, k=3)\n",
    "sample"
   ]
  },
  {
   "cell_type": "code",
   "execution_count": null,
   "id": "1c2a47ef",
   "metadata": {},
   "outputs": [
    {
     "name": "stdout",
     "output_type": "stream",
     "text": [
      "The number of tokens in sample is: 3099\n"
     ]
    }
   ],
   "source": [
    "# Tokenize the content of sample\n",
    "tokens = word_tokenize(str(sample))\n",
    "\n",
    "# Calculate the number of tokens\n",
    "num_tokens = len(tokens)\n",
    "\n",
    "print(f\"The number of tokens in sample is: {num_tokens}\")"
   ]
  },
  {
   "cell_type": "code",
   "execution_count": 20,
   "id": "f7f2a908",
   "metadata": {},
   "outputs": [],
   "source": [
    "canvas_pages_dir = \"./Data/Canvas/Text\""
   ]
  },
  {
   "cell_type": "code",
   "execution_count": 21,
   "id": "90be39ba",
   "metadata": {},
   "outputs": [],
   "source": [
    "# Traverse the directory and get all .txt files\n",
    "txt_files = [f for f in os.listdir(canvas_pages_dir) if f.endswith('.txt')]"
   ]
  },
  {
   "cell_type": "code",
   "execution_count": 23,
   "id": "744bbd80",
   "metadata": {},
   "outputs": [
    {
     "name": "stdout",
     "output_type": "stream",
     "text": [
      "Total number of Documents is: 14\n"
     ]
    }
   ],
   "source": [
    "# Read the contents of each file and store in a list\n",
    "documents_list = []\n",
    "for file in txt_files:\n",
    "    with open(os.path.join(canvas_pages_dir, file), 'r', encoding='utf-8') as f:\n",
    "        content = f.read()\n",
    "        documents_list.append(Document(page_content=content, metadata={'text': content}))\n",
    "print(f\"Total number of Documents is: {len(documents_list)}\")\n"
   ]
  },
  {
   "cell_type": "code",
   "execution_count": 24,
   "id": "ff048267",
   "metadata": {},
   "outputs": [
    {
     "name": "stdout",
     "output_type": "stream",
     "text": [
      "Processing document 1\n",
      "Processing document 2\n",
      "Processing document 3\n",
      "Processing document 4\n",
      "Processing document 5\n",
      "Processing document 6\n",
      "Processing document 7\n",
      "Processing document 8\n",
      "Processing document 9\n",
      "Processing document 10\n",
      "Processing document 11\n",
      "Processing document 12\n",
      "Processing document 13\n",
      "Processing document 14\n"
     ]
    }
   ],
   "source": [
    "for i in range(len(documents_list)):\n",
    "    try:\n",
    "        document = documents_list[i]\n",
    "        print(f\"Processing document {i + 1}\")\n",
    "\n",
    "        # Split the document into chunks\n",
    "        chunks = split_into_chunks(document.page_content)\n",
    "\n",
    "        for chunk in chunks:\n",
    "            chunk_document = Document(page_content=chunk, metadata={'text': chunk})\n",
    "            # Vectorize the chunk\n",
    "            search = Pinecone.from_documents([chunk_document], embeddings, index_name=index_name)\n",
    "\n",
    "    except Exception as e:\n",
    "        print(f\"Error processing document {i + 1}: {e}\")"
   ]
  },
  {
   "cell_type": "code",
   "execution_count": 25,
   "id": "b9ec5750",
   "metadata": {},
   "outputs": [
    {
     "data": {
      "text/plain": [
       "{'dimension': 1536,\n",
       " 'index_fullness': 0.05959,\n",
       " 'namespaces': {'': {'vector_count': 5959}},\n",
       " 'total_vector_count': 5959}"
      ]
     },
     "execution_count": 25,
     "metadata": {},
     "output_type": "execute_result"
    }
   ],
   "source": [
    "index.describe_index_stats()"
   ]
  }
 ],
 "metadata": {
  "kernelspec": {
   "display_name": "Python 3 (ipykernel)",
   "language": "python",
   "name": "python3"
  },
  "language_info": {
   "codemirror_mode": {
    "name": "ipython",
    "version": 3
   },
   "file_extension": ".py",
   "mimetype": "text/x-python",
   "name": "python",
   "nbconvert_exporter": "python",
   "pygments_lexer": "ipython3",
   "version": "3.9.12"
  }
 },
 "nbformat": 4,
 "nbformat_minor": 5
}
