{
 "cells": [
  {
   "cell_type": "code",
   "execution_count": 1,
   "id": "196f3f01",
   "metadata": {},
   "outputs": [],
   "source": [
    "import os\n",
    "from PyPDF2 import PdfReader\n",
    "from docx import Document"
   ]
  },
  {
   "cell_type": "code",
   "execution_count": 2,
   "id": "c0196da9",
   "metadata": {},
   "outputs": [
    {
     "data": {
      "text/plain": [
       "'Data/Syllabus 2023-selected\\\\PDF'"
      ]
     },
     "execution_count": 2,
     "metadata": {},
     "output_type": "execute_result"
    }
   ],
   "source": [
    "# Define paths\n",
    "base_path = 'Data/Syllabus 2023-selected'\n",
    "pdf_folder_path = os.path.join(base_path, 'PDF')\n",
    "word_folder_path = os.path.join(base_path, 'Word')\n",
    "text_folder_path = os.path.join(base_path, 'Text')\n",
    "pdf_folder_path"
   ]
  },
  {
   "cell_type": "code",
   "execution_count": 3,
   "id": "5287ccee",
   "metadata": {},
   "outputs": [],
   "source": [
    "# Function to extract text from PDF files\n",
    "def extract_pdf_text(pdf_file):\n",
    "    with open(pdf_file, 'rb') as file:\n",
    "        reader = PdfReader(file)\n",
    "        text = ''\n",
    "        for page in reader.pages:\n",
    "            text += page.extract_text()\n",
    "    return text\n",
    "\n",
    "# Function to extract text from Word files\n",
    "def extract_word_text(word_file):\n",
    "    doc = Document(word_file)\n",
    "    text = ''\n",
    "    for paragraph in doc.paragraphs:\n",
    "        text += paragraph.text + '\\n'\n",
    "    return text"
   ]
  },
  {
   "cell_type": "code",
   "execution_count": 4,
   "id": "663ee5d5",
   "metadata": {},
   "outputs": [],
   "source": [
    "# Convert PDFs to Text\n",
    "for file_name in os.listdir(pdf_folder_path):\n",
    "    if file_name.endswith('.pdf'):\n",
    "        file_path = os.path.join(pdf_folder_path, file_name)\n",
    "        text = extract_pdf_text(file_path)\n",
    "        with open(os.path.join(text_folder_path, file_name.replace('.pdf', '.txt')), 'w', encoding='utf-8') as text_file:\n",
    "            text_file.write(text)"
   ]
  },
  {
   "cell_type": "code",
   "execution_count": 5,
   "id": "02d37acb",
   "metadata": {},
   "outputs": [],
   "source": [
    "# Convert Word files to Text\n",
    "for file_name in os.listdir(word_folder_path):\n",
    "    if file_name.endswith('.docx'):\n",
    "        file_path = os.path.join(word_folder_path, file_name)\n",
    "        text = extract_word_text(file_path)\n",
    "        with open(os.path.join(text_folder_path, file_name.replace('.docx', '.txt')), 'w', encoding='utf-8') as text_file:\n",
    "            text_file.write(text)"
   ]
  },
  {
   "cell_type": "markdown",
   "id": "ac42b70f",
   "metadata": {},
   "source": [
    "## Canvas webScraping"
   ]
  },
  {
   "cell_type": "code",
   "execution_count": 8,
   "id": "efc681de",
   "metadata": {},
   "outputs": [],
   "source": [
    "pdf_folder_path = 'Data/Canvas'\n",
    "text_folder_path = os.path.join('Data/Canvas', 'Text')"
   ]
  },
  {
   "cell_type": "code",
   "execution_count": 10,
   "id": "9a37af47",
   "metadata": {},
   "outputs": [
    {
     "data": {
      "text/plain": [
       "['Academic Integrity_ ORG04655 _ MS-BAIS Current Students.pdf',\n",
       " 'Academic Probation_ ORG04655 _ MS-BAIS Current Students.pdf',\n",
       " 'Canned Responses re Applicants and Potential Applicants.pdf',\n",
       " 'Course Registration_ ORG04655 _ MS-BAIS Current Students.pdf',\n",
       " 'CPT Internship FAQ_ ORG04655 _ MS-BAIS Current Students.pdf',\n",
       " 'CPT Internships_ ORG04655 _ MS-BAIS Current Students.pdf',\n",
       " 'Graduate_Teaching Assistantships_ ORG04655 _ MS-BAIS Current Students.pdf',\n",
       " 'How to apply for graduation_ ORG04655 _ MS-BAIS Current Students.pdf',\n",
       " 'Independent Study_ ORG04655 _ MS-BAIS Current Students.pdf',\n",
       " 'MS-BAIS Advising FAQ_ ORG04655 _ MS-BAIS Current Students.pdf',\n",
       " 'Practice Center Projects_ ORG04655 _ MS-BAIS Current Students.pdf',\n",
       " 'Professional Development Certificates_ ORG04655 _ MS-BAIS Current Students.pdf',\n",
       " 'Reduced Course Loads_ ORG04655 _ MS-BAIS Current Students.pdf',\n",
       " 'Transfer Credits_ ORG04655 _ MS-BAIS Current Students.pdf']"
      ]
     },
     "execution_count": 10,
     "metadata": {},
     "output_type": "execute_result"
    }
   ],
   "source": [
    "os.listdir(pdf_folder_path)"
   ]
  },
  {
   "cell_type": "code",
   "execution_count": 15,
   "id": "6497a626",
   "metadata": {},
   "outputs": [],
   "source": [
    "# Convert PDFs to Text\n",
    "for file_name in os.listdir(pdf_folder_path):\n",
    "    if file_name.endswith('.pdf'):\n",
    "        file_path = os.path.join(pdf_folder_path, file_name)\n",
    "        text = extract_pdf_text(file_path)\n",
    "        with open(os.path.join(text_folder_path, file_name.replace('.pdf', '.txt')), 'w', encoding='utf-8') as text_file:\n",
    "            text_file.write(text)"
   ]
  }
 ],
 "metadata": {
  "kernelspec": {
   "display_name": "Python 3 (ipykernel)",
   "language": "python",
   "name": "python3"
  },
  "language_info": {
   "codemirror_mode": {
    "name": "ipython",
    "version": 3
   },
   "file_extension": ".py",
   "mimetype": "text/x-python",
   "name": "python",
   "nbconvert_exporter": "python",
   "pygments_lexer": "ipython3",
   "version": "3.11.5"
  }
 },
 "nbformat": 4,
 "nbformat_minor": 5
}
